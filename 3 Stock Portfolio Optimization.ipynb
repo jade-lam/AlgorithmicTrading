{
  "nbformat": 4,
  "nbformat_minor": 0,
  "metadata": {
    "colab": {
      "provenance": [],
      "authorship_tag": "ABX9TyPnhwehCCd6a5EOv1OfatuW"
    },
    "kernelspec": {
      "name": "python3",
      "display_name": "Python 3"
    },
    "language_info": {
      "name": "python"
    }
  },
  "cells": [
    {
      "cell_type": "markdown",
      "source": [
        "**3 Stock Porfolio Backtesting**\n",
        "\n",
        "Backtesting/ Optimization for 3 stock portfoliio:\n",
        "*   VTI - Vanguard Total Stock Market ETF\tLarge Cap Growth Equities/ Large Cap Growth\n",
        "*   VXUS - Vanguard Total International Stock ETF/ Foreign Large Cap\n",
        "*   BND - Vanguard Total Bond Market ETF/ Total Bonds"
      ],
      "metadata": {
        "id": "oA0mdoI8gWze"
      }
    },
    {
      "cell_type": "code",
      "source": [
        "# !pip install yfinance --upgrade\n",
        "# !curl -L http://prdownloads.sourceforge.net/ta-lib/ta-lib-0.4.0-src.tar.gz -O && tar xzvf ta-lib-0.4.0-src.tar.gz\n",
        "# !cd ta-lib && ./configure --prefix=/usr && make && make install && cd - && pip install ta-lib\n",
        "# !pip install PyPortfolioOpt\n",
        "# !pip install pandas-datareader"
      ],
      "metadata": {
        "id": "uIaK6dajICTQ"
      },
      "execution_count": 111,
      "outputs": []
    },
    {
      "cell_type": "code",
      "source": [
        "import os, sys, copy\n",
        "import time\n",
        "from datetime import datetime, timedelta\n",
        "\n",
        "import pandas as pd\n",
        "import numpy as np\n",
        "\n",
        "import matplotlib.pyplot as plt\n",
        "import seaborn as sns\n",
        "\n",
        "import yfinance as yf\n",
        "import talib as ta\n",
        "\n",
        "from pypfopt.efficient_frontier import EfficientFrontier\n",
        "from pypfopt import risk_models\n",
        "from pypfopt import expected_returns\n",
        "from pandas_datareader import data as pdr\n",
        "\n",
        "plt.style.use(\"fivethirtyeight\")\n",
        "pd.options.display.float_format = '{:,}'.format\n",
        "yf.pdr_override()"
      ],
      "metadata": {
        "id": "y9cjxnxehuL8"
      },
      "execution_count": 128,
      "outputs": []
    },
    {
      "cell_type": "markdown",
      "source": [
        "**1) Defining Data Folder Structures & Parameters**"
      ],
      "metadata": {
        "id": "-YG9kFEXU31c"
      }
    },
    {
      "cell_type": "code",
      "source": [
        "# 3 stock + benchmark ticker\n",
        "ticker_list = ['VTI', 'VXUS', 'BND', '^GSPC']\n",
        "\n",
        "# define date range\n",
        "start_date = '2019-01-01'\n",
        "end_date = '2023-12-31'\n",
        "interval = '1d'\n",
        "\n",
        "# define portfolio mix\n",
        "\n",
        "\n",
        "# initial capital in USD\n",
        "initial_capital = 100000\n",
        "\n",
        "# position sizing\n",
        "pos_size = round(initial_capital/len(ticker_list),2)"
      ],
      "metadata": {
        "id": "Eho-OZ5STDpT"
      },
      "execution_count": 247,
      "outputs": []
    },
    {
      "cell_type": "markdown",
      "source": [
        "**2) Getting OHLC Data from Yahoo Finance** </b>\n",
        "\n",
        "\n",
        "*   Get stock data based on ticker list from Yahoo Finance\n",
        "*   Create each stock data as different dataframe\n",
        "*   Add Technical Analysis indicators from TA-Lib\n",
        "*   Pointing working directory to data folder, export dach dataframe as independent csv file\n",
        "\n",
        "\n",
        "\n"
      ],
      "metadata": {
        "id": "k0P5DZbhVtYv"
      }
    },
    {
      "cell_type": "code",
      "source": [
        "# getting OHLC data from yfinance package, if auto_adjust=True, OHLC data will not have adj close column, use progress=False to get rid of comments\n",
        "# use %whos to list out all the DataFrame in session\n",
        "\n",
        "for ticker in ticker_list:\n",
        "  try:\n",
        "    globals()[ticker] = yf.download(ticker, start=start_date, end=end_date, interval=interval, auto_adjust=True, back_adjust=True, progress=False)\n",
        "    globals()[ticker] = globals()[ticker].round(4).reset_index()\n",
        "\n",
        "    # for backtesting\n",
        "    globals()[ticker][['Position', 'Win Count']] = 0\n",
        "    globals()[ticker][['Lot Size', 'Equity Value', 'MDD_dollar', 'PNL', 'Holding Period']] = np.NAN\n",
        "\n",
        "    # strip out special characters in dataframe name, assign new name to df\n",
        "    if '^' in ticker:\n",
        "      new_name = ticker.strip('^')\n",
        "    else:\n",
        "      new_name = ticker\n",
        "      globals()[new_name] = globals()[ticker]\n",
        "  except:\n",
        "    print('No Data: ', globals()[ticker])"
      ],
      "metadata": {
        "id": "qt7IJGR-SHid"
      },
      "execution_count": 248,
      "outputs": []
    },
    {
      "cell_type": "markdown",
      "source": [
        "**3) Building the DataFrame List, Perform Backtesting**"
      ],
      "metadata": {
        "id": "tNzavMxuXk-H"
      }
    },
    {
      "cell_type": "code",
      "source": [
        "# list of dataframes to be iterated after yfinance data pull\n",
        "df_list = [VTI, VXUS, BND, GSPC]"
      ],
      "metadata": {
        "id": "uiD13LcIV4Xw"
      },
      "execution_count": 249,
      "outputs": []
    },
    {
      "cell_type": "code",
      "source": [
        "# function to extract dataframe name\n",
        "def get_df_name(df):\n",
        "   name =[x for x in globals() if globals()[x] is df][0]\n",
        "   return name"
      ],
      "metadata": {
        "id": "VNJz7O-ZXo53"
      },
      "execution_count": 250,
      "outputs": []
    },
    {
      "cell_type": "code",
      "source": [
        "# function to print function name as a string\n",
        "def get_func_name(func_name):\n",
        "    func_name = sys._getframe().f_code.co_name\n",
        "    return func_name"
      ],
      "metadata": {
        "id": "q9CDV6LeXpRx"
      },
      "execution_count": 251,
      "outputs": []
    },
    {
      "cell_type": "markdown",
      "source": [
        "**4) PyPortfolioOpt Optinization Results**"
      ],
      "metadata": {
        "id": "x5u5aC1itUXv"
      }
    },
    {
      "cell_type": "code",
      "source": [
        "SP500_open = GSPC.iloc[0]['Close']\n",
        "SP500_close = GSPC.iloc[-1]['Close']\n",
        "benchmark_return = SP500_close/SP500_open -1\n",
        "print('S&P500 benchmark return for same period: ', benchmark_return.round(3))"
      ],
      "metadata": {
        "colab": {
          "base_uri": "https://localhost:8080/"
        },
        "id": "THezkQgxMQ_d",
        "outputId": "4d3cd46a-f127-44af-80fb-6593640a14c3"
      },
      "execution_count": 252,
      "outputs": [
        {
          "output_type": "stream",
          "name": "stdout",
          "text": [
            "S&P500 benchmark return for same period:  0.9\n"
          ]
        }
      ]
    },
    {
      "cell_type": "code",
      "source": [
        "# creating data required for pyportfolio\n",
        "assets = ['VTI', 'VXUS', 'BND']\n",
        "\n",
        "#assign weight to each stock\n",
        "weights = np.array([0.65,0.25,0.1])\n",
        "\n",
        "# get data via pandas datareader\n",
        "df = pd.DataFrame()\n",
        "for stock in assets:\n",
        "    df[stock] = pdr.get_data_yahoo(stock, start =start_date, end=end_date, progress=False)['Adj Close'].round(4)\n",
        "\n",
        "# getting the basic math input done\n",
        "returns     = df.pct_change()\n",
        "returns_std = returns.std().round(4)\n",
        "cov_matrix_annual = returns.cov() * 252\n",
        "port_variance     = np.dot(weights.T, np.dot(cov_matrix_annual, weights))\n",
        "port_volatility   = np.sqrt(port_variance)\n",
        "portfolioSimpleAnnualReturn = np.sum(returns.mean()* weights)*252"
      ],
      "metadata": {
        "id": "5IY-Gr-lyW0N"
      },
      "execution_count": 253,
      "outputs": []
    },
    {
      "cell_type": "code",
      "source": [
        "# compute result based on initial allocation\n",
        "percent_var = str(round(port_variance,2)*100) + \"%\"\n",
        "percent_vols = str(round(port_volatility,2)*100) + \"%\"\n",
        "percent_ret = str(round(portfolioSimpleAnnualReturn,2)*100) + \"%\"\n",
        "\n",
        "print('Result based on original allocation')\n",
        "print('Weight - VTI/VXUS/BND: ', weights.round(2))\n",
        "print('Expected annual return: ', percent_ret)\n",
        "print('Annual volatility/risk: ', percent_vols)\n",
        "print('Annual variance: ', percent_var)"
      ],
      "metadata": {
        "colab": {
          "base_uri": "https://localhost:8080/"
        },
        "id": "inHq4NlS_JAT",
        "outputId": "338c1d11-cd63-4e79-b6be-ca121a58cc6e"
      },
      "execution_count": 254,
      "outputs": [
        {
          "output_type": "stream",
          "name": "stdout",
          "text": [
            "Result based on original allocation\n",
            "Weight - VTI/VXUS/BND:  [0.65 0.25 0.1 ]\n",
            "Expected annual return:  13.0%\n",
            "Annual volatility/risk:  19.0%\n",
            "Annual variance:  3.0%\n"
          ]
        }
      ]
    },
    {
      "cell_type": "markdown",
      "source": [
        "Weight - VTI/VXUS/BND:  [0.34 0.33 0.33]\n",
        "Expected annual return:  9.0%\n",
        "Annual volatility/risk:  14.02%\n",
        "Annual variance:  2.0%\n",
        "\n",
        "Weight - VTI/VXUS/BND:  [0.4 0.4 0.2]\n",
        "Expected annual return:  10.0%\n",
        "Annual volatility/risk:  16.0%\n",
        "Annual variance:  3.0%\n",
        "\n",
        "Weight - VTI/VXUS/BND:  [0.45 0.45 0.1 ]\n",
        "Expected annual return:  12.0%\n",
        "Annual volatility/risk:  18.0%\n",
        "Annual variance:  3.0%\n",
        "\n",
        "Weight - VTI/VXUS/BND:  [0.65 0.25 0.1 ]\n",
        "Expected annual return:  13.0%\n",
        "Annual volatility/risk:  19.0%\n",
        "Annual variance:  3.0%\n",
        "\n",
        "Weight - VTI/VXUS/BND:  [0.8  0.15 0.05]\n",
        "Expected annual return:  15.0%\n",
        "Annual volatility/risk:  20.0%\n",
        "Annual variance:  4.0%\n",
        "\n",
        "S&P500 benchmark annual return for same period 18%"
      ],
      "metadata": {
        "id": "90rmylfjHvow"
      }
    },
    {
      "cell_type": "code",
      "source": [
        "mu = expected_returns.mean_historical_return(df)\n",
        "S = risk_models.sample_cov(df)\n",
        "\n",
        "#optimize for max sharpe ratio\n",
        "ef = EfficientFrontier(mu , S)\n",
        "weights = ef.max_sharpe()\n",
        "\n",
        "print('Assuming max return:')\n",
        "cleaned_weights = ef.clean_weights()\n",
        "ef.portfolio_performance(verbose= True)\n",
        "print(cleaned_weights)"
      ],
      "metadata": {
        "colab": {
          "base_uri": "https://localhost:8080/"
        },
        "id": "-IDj5lzA_PdA",
        "outputId": "679b167e-4255-4352-884b-69ac4fb34b15"
      },
      "execution_count": 255,
      "outputs": [
        {
          "output_type": "stream",
          "name": "stdout",
          "text": [
            "Assuming max return:\n",
            "Expected annual return: 15.1%\n",
            "Annual volatility: 21.6%\n",
            "Sharpe Ratio: 0.61\n",
            "OrderedDict([('VTI', 1.0), ('VXUS', 0.0), ('BND', 0.0)])\n"
          ]
        }
      ]
    }
  ]
}