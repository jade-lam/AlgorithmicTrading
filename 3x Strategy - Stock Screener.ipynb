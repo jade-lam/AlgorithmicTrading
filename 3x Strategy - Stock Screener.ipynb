{
  "nbformat": 4,
  "nbformat_minor": 0,
  "metadata": {
    "colab": {
      "provenance": [],
      "authorship_tag": "ABX9TyMBfpGIxeOjI5ovvnCpSPeq"
    },
    "kernelspec": {
      "name": "python3",
      "display_name": "Python 3"
    },
    "language_info": {
      "name": "python"
    }
  },
  "cells": [
    {
      "cell_type": "markdown",
      "source": [
        "Stock signal scanner based on the 3x Bollinger MACD Strategy. "
      ],
      "metadata": {
        "id": "oA0mdoI8gWze"
      }
    },
    {
      "cell_type": "code",
      "execution_count": 1,
      "metadata": {
        "id": "EVyrqMpxhlQF"
      },
      "outputs": [],
      "source": [
        "#!pip install yfinance --upgrade\n",
        "#!pip install talib-binary\n",
        "#!wget http://prdownloads.sourceforge.net/ta-lib/ta-lib-0.4.0-src.tar.gz\n",
        "#!tar -xzvf ta-lib-0.4.0-src.tar.gz\n",
        "#%cd ta-lib\n",
        "#!./configure --prefix=/usr\n",
        "#!make\n",
        "#!make install\n",
        "#!pip install Ta-Lib"
      ]
    },
    {
      "cell_type": "code",
      "source": [
        "import datetime as dt\n",
        "from datetime import datetime, timedelta\n",
        "import time\n",
        "import json\n",
        "import requests\n",
        "\n",
        "import pandas as pd\n",
        "import numpy as np\n",
        "\n",
        "import yfinance as yf\n",
        "import talib as ta"
      ],
      "metadata": {
        "id": "y9cjxnxehuL8"
      },
      "execution_count": 2,
      "outputs": []
    },
    {
      "cell_type": "markdown",
      "source": [
        "**1) Defining Basic Parameters & Get OHLC Data**"
      ],
      "metadata": {
        "id": "-YG9kFEXU31c"
      }
    },
    {
      "cell_type": "code",
      "source": [
        "# tickers for the signal screener list\n",
        "ticker_list = ['TQQQ', 'SQQQ', 'SPXL', 'SPXS', 'TZA', 'TNA', 'SOXL', 'SOXS', 'FAS', 'FAZ', 'LABD', 'LABU', 'EDZ', 'EDC']\n",
        "\n",
        "# define all date time related metrics\n",
        "# for yfinance data retrival\n",
        "end_date = datetime.today().strftime('%Y-%m-%d')\n",
        "start_date = (datetime.today() - timedelta(days=181)).strftime('%Y-%m-%d')\n",
        "interval = '1d'\n",
        "\n",
        "# for while loop operation\n",
        "day_of_week = datetime.now().weekday()\n",
        "now_hour = datetime.now().hour\n",
        "now_minute = datetime.now().minute"
      ],
      "metadata": {
        "id": "nHfH03Lz08VE"
      },
      "execution_count": 3,
      "outputs": []
    },
    {
      "cell_type": "markdown",
      "source": [
        "**2) Sending Messages to Telegram Account**"
      ],
      "metadata": {
        "id": "e4fQ53_w4BPL"
      }
    },
    {
      "cell_type": "code",
      "source": [
        "def send_to_telegram(message):\n",
        "\n",
        "    apiToken = '5xxxxxxxxx:AAFxxxx_cnM0qQNWDpa6y0rPZGyqfmQ'\n",
        "    chatID = '-7xxxxxxx'\n",
        "    apiURL = f'https://api.telegram.org/bot{apiToken}/sendMessage'\n",
        "\n",
        "    try:\n",
        "        response = requests.post(apiURL, json={'chat_id': chatID, 'text': message})\n",
        "        print(response.text)\n",
        "    except Exception as e:\n",
        "        print(e)"
      ],
      "metadata": {
        "id": "RBORx6DYTTf-"
      },
      "execution_count": 4,
      "outputs": []
    },
    {
      "cell_type": "markdown",
      "source": [
        "**3) Executing the Screener within Specific Time Parameters**"
      ],
      "metadata": {
        "id": "lx5tDI_o4FuH"
      }
    },
    {
      "cell_type": "code",
      "source": [
        "while True: \n",
        "  # start screening everyday, 5 minutes before market opens\n",
        "  if (day_of_week < 6) and (now_hour == 2) and (now_minute > 24):\n",
        "\n",
        "    for ticker in ticker_list:\n",
        "      # rename dataframe to ticker, download data from yfinance\n",
        "      globals()[ticker] = pd.DataFrame\n",
        "      globals()[ticker] = yf.download(ticker, start=start_date, end=end_date, interval=interval, auto_adjust=True, back_adjust=True, progress=False)\n",
        "      \n",
        "      # add MACD and Bollinger indicator from TA-Lib\n",
        "      globals()[ticker]['MACD'], globals()[ticker]['MACD_signal'], globals()[ticker]['MACD_hist'] = ta.MACD(globals()[ticker]['Close'], fastperiod=12, slowperiod=26, signalperiod=9)\n",
        "      globals()[ticker]['BBand_U'], globals()[ticker]['BBand_M'], globals()[ticker]['BBand_L'] = ta.BBANDS(globals()[ticker]['Close']) \n",
        "\n",
        "      # data cleaning - drop empty lines, reset index\n",
        "      globals()[ticker] = globals()[ticker].dropna()\n",
        "      globals()[ticker] = globals()[ticker].reset_index()    \n",
        "      globals()[ticker]['Date'] = globals()[ticker]['Date'].dt.strftime('%Y-%m-%d')\n",
        "\n",
        "      # create signal indicators\n",
        "      last_index      = int(globals()[ticker].last_valid_index())\n",
        "      today           = end_date\n",
        "      now_Date        = globals()[ticker].at[last_index,'Date']\n",
        "      now_MACD        = globals()[ticker].at[last_index,'MACD']\n",
        "      now_MACD_signal = globals()[ticker].at[last_index,'MACD_signal']\n",
        "      now_MACD_hist   = globals()[ticker].at[last_index,'MACD_hist']\n",
        "      now_BBand_L     = globals()[ticker].at[last_index,'BBand_L']\n",
        "      prev_close      = globals()[ticker].at[last_index,'Close']\n",
        "      now_open        = globals()[ticker].at[last_index,'Open']\n",
        "\n",
        "      # scan and send signal to telegram\n",
        "      if now_Date != today:\n",
        "        if ((now_MACD > now_MACD_signal) and (now_MACD_hist >0)):\n",
        "          message = now_Date + ' - ' + ticker + ': target buy <$' + str(round(now_BBand_L,2)) + ', prev close $' + str(round(prev_close,2))\n",
        "          send_to_telegram(message)\n",
        "      elif now_Date == today:\n",
        "        if ((now_MACD > now_MACD_signal) and (now_MACD_hist >0) and (now_open < now_BBand_L)):\n",
        "          message = now_Date + ' - ' + ticker + ': target buy <$' + str(round(now_BBand_L,2)) + ', open $' + str(round(now_open,2))\n",
        "          send_to_telegram(message) \n",
        "\n",
        "    time.sleep(300)\n",
        "  \n",
        "  else:\n",
        "    time.sleep(1800) "
      ],
      "metadata": {
        "id": "Yi5SNChz1Wtl"
      },
      "execution_count": null,
      "outputs": []
    }
  ]
}