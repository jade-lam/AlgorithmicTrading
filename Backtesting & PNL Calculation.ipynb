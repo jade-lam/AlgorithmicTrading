{
  "nbformat": 4,
  "nbformat_minor": 0,
  "metadata": {
    "colab": {
      "provenance": [],
      "collapsed_sections": [],
      "authorship_tag": "ABX9TyMs2WWJ80q4uWVkhWD0JpvI"
    },
    "kernelspec": {
      "name": "python3",
      "display_name": "Python 3"
    },
    "language_info": {
      "name": "python"
    }
  },
  "cells": [
    {
      "cell_type": "code",
      "source": [
        "#!pip install plotguy\n",
        "#!pip install hkfdb\n",
        "#!pip install yfinance --upgrade\n",
        "#!pip install talib-binary"
      ],
      "metadata": {
        "id": "bZ5b77AKcWUG"
      },
      "execution_count": 539,
      "outputs": []
    },
    {
      "cell_type": "code",
      "execution_count": 540,
      "metadata": {
        "id": "ZqvFeGRKbu3f"
      },
      "outputs": [],
      "source": [
        "import os\n",
        "import sys\n",
        "import copy\n",
        "import datetime\n",
        "import time\n",
        "import itertools\n",
        "\n",
        "import pandas as pd\n",
        "import numpy as np\n",
        "\n",
        "import seaborn as sns\n",
        "import matplotlib.pyplot as plt\n",
        "#import plotguy\n",
        "\n",
        "import yfinance as yf\n",
        "import talib as ta"
      ]
    },
    {
      "cell_type": "code",
      "source": [
        "from google.colab import drive\n",
        "drive.mount('/content/drive')"
      ],
      "metadata": {
        "colab": {
          "base_uri": "https://localhost:8080/"
        },
        "id": "I9JW6zsuczKD",
        "outputId": "f2667af1-cf01-43e8-89ba-dfa329a6ea31"
      },
      "execution_count": 541,
      "outputs": [
        {
          "output_type": "stream",
          "name": "stdout",
          "text": [
            "Drive already mounted at /content/drive; to attempt to forcibly remount, call drive.mount(\"/content/drive\", force_remount=True).\n"
          ]
        }
      ]
    },
    {
      "cell_type": "code",
      "source": [
        "#import own data manipulation toolkit\n",
        "sys.path.append('/content/drive/MyDrive/Colab Notebooks/Algorithmic trading')\n",
        "import _datatoolkit as dtk"
      ],
      "metadata": {
        "id": "_06hI5AgHoJK"
      },
      "execution_count": 542,
      "outputs": []
    },
    {
      "cell_type": "markdown",
      "source": [
        "Defining Data Folder Structures"
      ],
      "metadata": {
        "id": "R1WxUo_NA53l"
      }
    },
    {
      "cell_type": "code",
      "source": [
        "#data folder structures\n",
        "data_folder = '/content/drive/MyDrive/Colab Notebooks/Algorithmic trading/data'\n",
        "backtest_output_folder = '/content/drive/MyDrive/Colab Notebooks/Algorithmic trading/backtest_output'"
      ],
      "metadata": {
        "id": "Ues210hbdWXy"
      },
      "execution_count": 543,
      "outputs": []
    },
    {
      "cell_type": "markdown",
      "source": [
        "**Define Tickers List, Backtest Date Range and Data Retrival Intervals**"
      ],
      "metadata": {
        "id": "MSd2eNNfA8R7"
      }
    },
    {
      "cell_type": "code",
      "source": [
        "# define list of tickers to backtest\n",
        "#ticker_list = ['ARCC', 'STAG', 'O', 'WPC', 'MAIN', 'ABR', 'ACRE', 'DIVO', 'JEPI', 'LTC', 'OHI', 'PFLT', 'QYLD', 'SCHD', 'STOR', 'XRMI']\n",
        "ticker_list = ['IRM', 'WPC', 'UVXY', 'SQQQ', 'MOS', 'ARCC', 'HTGC', 'ACRE', 'ABR', 'CTO']\n",
        "\n",
        "# define date range\n",
        "start_date = '2021-03-20'\n",
        "end_date = '2022-12-31'\n",
        "interval = '1d'\n",
        "\n",
        "# initial capital in USD\n",
        "initial_capital = 8000\n",
        "\n",
        "# position sizing\n",
        "pos_size = round(initial_capital/len(ticker_list),2)"
      ],
      "metadata": {
        "id": "OPlPECcwdt0E"
      },
      "execution_count": 544,
      "outputs": []
    },
    {
      "cell_type": "markdown",
      "source": [
        "**Getting OHLC Data from Yahoo Finance** </b>\n",
        "\n",
        "\n",
        "*   Get stock data based on ticker list from Yahoo Finance\n",
        "*   Create each stock data as different dataframe\n",
        "*   Add Technical Analysis indicators from TA-Lib\n",
        "*   Pointing working directory to data folder, export dach dataframe as independent csv file \n",
        "\n",
        "\n",
        "\n"
      ],
      "metadata": {
        "id": "ftTZqrlsBCh-"
      }
    },
    {
      "cell_type": "code",
      "source": [
        "# changing working directory to data folder's path\n",
        "data_folder = '/content/drive/MyDrive/Colab Notebooks/Algorithmic trading/data'\n",
        "os.chdir(data_folder)\n",
        "\n",
        "# getting OHLC data from yfinance package, if auto_adjust=True, OHLC data will not have adj close column, use progress=False to get rid of comments\n",
        "# Other indicators: 14 day RSI\n",
        "for ticker in ticker_list:\n",
        "  try:\n",
        "    globals()[ticker] = pd.DataFrame\n",
        "    globals()[ticker] = yf.download(ticker, start=start_date, end=end_date, interval=interval, auto_adjust=True, back_adjust=True, progress=False)\n",
        "    globals()[ticker]['50EMA'] = ta.EMA(globals()[ticker]['Close'], timeperiod=50)\n",
        "    globals()[ticker]['200EMA'] = ta.EMA(globals()[ticker]['Close'], timeperiod=200) \n",
        "    globals()[ticker]['ATR'] = ta.ATR(globals()[ticker]['High'], globals()[ticker]['Low'], globals()[ticker]['Close'], timeperiod=14)\n",
        "    globals()[ticker]['RSI'] = ta.RSI(globals()[ticker]['Close'], timeperiod=14)\n",
        "    globals()[ticker]['MACD'], globals()[ticker]['MACD_signal'], globals()[ticker]['MACD_hist'] = ta.MACD(globals()[ticker]['Close'], fastperiod=12, slowperiod=26, signalperiod=9)\n",
        "    globals()[ticker]['ADX'] = ta.ADX(globals()[ticker]['High'], globals()[ticker]['Open'], globals()[ticker]['Close'], 14)\n",
        "    globals()[ticker] = globals()[ticker].drop(['Volume', 'MACD_hist'], axis=1)\n",
        "    globals()[ticker] = globals()[ticker].round(4).dropna()\n",
        "    globals()[ticker] = globals()[ticker].reset_index()\n",
        "    globals()[ticker]['Position'] = 0\n",
        "    globals()[ticker][['Equity Value', 'MDD_dollar', 'PNL']] = np.NAN\n",
        "    \n",
        "    #writing each ticker dataframe into separate .csv files, save to google drive\n",
        "    #globals()[ticker].to_csv(ticker+'.csv', index=False, header=True)\n",
        "  except:\n",
        "    print(globals()[ticker])"
      ],
      "metadata": {
        "id": "dQO16Sjnku9-"
      },
      "execution_count": 545,
      "outputs": []
    },
    {
      "cell_type": "markdown",
      "source": [
        "**Other Optional Indicators:** </b>\n",
        "\n",
        "**MACD_hist** - globals()[ticker]['MACD'], globals()[ticker]['MACD_signal'], globals()[ticker]['MACD_hist'] = ta.MACD(globals()[ticker]['Close'], fastperiod=12, slowperiod=26, signalperiod=9) </b>\n",
        "\n",
        "**ADXR** - globals()[ticker]['ADXR'] = ta.ADXR(globals()[ticker]['High'], globals()[ticker]['Open'], globals()[ticker]['Close'], 14)\n"
      ],
      "metadata": {
        "id": "MP5bSd4XYw9z"
      }
    },
    {
      "cell_type": "code",
      "source": [
        "#df_list = [ARCC, STAG, O, WPC, MAIN, ABR, ACRE, DIVO, JEPI, LTC, OHI, PFLT, QYLD, SCHD, STOR, XRMI]\n",
        "df_list = [IRM, WPC, UVXY, SQQQ, MOS, ARCC, HTGC, ACRE, ABR, CTO]"
      ],
      "metadata": {
        "id": "Q84e-irDApCI"
      },
      "execution_count": 546,
      "outputs": []
    },
    {
      "cell_type": "markdown",
      "source": [
        "**Back Testing** </b>\n",
        "\n",
        "\n",
        "*   Backtesting of Trade Logic across all tickers and in the designated timeframe\n",
        "*   Backtesting for Trade strategy with simulated PNL\n",
        "\n"
      ],
      "metadata": {
        "id": "fFQAe6c_BGIJ"
      }
    },
    {
      "cell_type": "code",
      "source": [
        "# Class to call Pandas by row and column\n",
        "# https://stackoverflow.com/questions/28754603/indexing-pandas-data-frames-integer-rows-named-columns \n",
        "class XLocIndexer:\n",
        "    def __init__(self, frame):\n",
        "        self.frame = frame\n",
        "    \n",
        "    def __getitem__(self, key):\n",
        "        row, col = key\n",
        "        return self.frame.iloc[row][col]\n",
        "\n",
        "pd.core.indexing.IndexingMixin.xloc = property(lambda frame: XLocIndexer(frame))"
      ],
      "metadata": {
        "id": "Hq1YkFgEwoRZ"
      },
      "execution_count": 547,
      "outputs": []
    },
    {
      "cell_type": "code",
      "source": [
        "def backtest_macd(df):\n",
        "  #start_index = 0\n",
        "  #end_index = len(df)\n",
        "  pos_size = 1000\n",
        "  pos_opened = False\n",
        "  open_price  = 0\n",
        "  close_price = 0\n",
        "  \n",
        "  pnl = 0\n",
        "  pnl_list = []\n",
        "  \n",
        "  lot_size = 0\n",
        "  initial_equity_value = 0\n",
        "  stop_loss = initial_equity_value * 0.1\n",
        "  profit_target = initial_equity_value * 1.06\n",
        "\n",
        "  for i in range(len(df)):\n",
        "    now_open        = df.loc[i, 'Open']\n",
        "    now_close       = df.loc[i, 'Close']\n",
        "    now_50EMA       = df.loc[i, '50EMA']\n",
        "    now_200EMA      = df.loc[i, '200EMA']\n",
        "    now_rsi         = df.loc[i, 'RSI']\n",
        "    now_MACD        = df.loc[i, 'MACD']\n",
        "    now_MACD_signal = df.loc[i, 'MACD_signal']\n",
        "    now_ADX         = df.loc[i, 'ADX']\n",
        "    now_position    = df.loc[i, 'Position']\n",
        "    now_equity_val  = df.loc[i, 'Equity Value']\n",
        "    now_mdd_dollar  = df.loc[i, 'MDD_dollar']\n",
        "\n",
        "    # opening a position\n",
        "    if (pos_opened == False) and ((now_MACD > now_MACD_signal) and (now_rsi < 45)):\n",
        "      pos_opened = True\n",
        "      open_price = now_open\n",
        "      lot_size = pos_size//open_price\n",
        "      buy_commission = (0.0049 + 0.005) * lot_size\n",
        "      initial_equity_value = ((lot_size * open_price) - buy_commission)\n",
        "      df.loc[i, 'Position'] = 1\n",
        "      df.loc[i, 'Equity Value'] = initial_equity_value\n",
        "    \n",
        "    # closing a position\n",
        "    elif (pos_opened == True) and (now_MACD < now_MACD_signal):\n",
        "      pos_opened = False\n",
        "      close_price = now_open\n",
        "      sell_commission = (0.04 * lot_size) + (close_price * lot_size * 0.0000229)\n",
        "      pnl = (close_price - open_price) * lot_size - sell_commission\n",
        "      df.loc[i, 'Position'] = 2\n",
        "      df.loc[i, 'Equity Value'] = (now_open * lot_size)\n",
        "      df.loc[i, 'MDD_dollar']     = (now_close * lot_size) - initial_equity_value\n",
        "      df.loc[i, 'PNL'] = pnl\n",
        "      pnl_list.append(pnl)\n",
        "\n",
        "      # reset values\n",
        "      open_price = 0\n",
        "      close_price = 0\n",
        "      initial_equity_value = 0\n",
        "      lot_size = 0\n",
        "      stop_loss = 0\n",
        "\n",
        "    # calculating daily drawdowns\n",
        "    #else (pos_opened == True):\n",
        "    elif (pos_opened==True):\n",
        "      #df.loc[i, 'Position'] = 1\n",
        "      df.loc[i, 'Equity Value']   = (now_close * lot_size)\n",
        "      df.loc[i, 'MDD_dollar']     = (now_close * lot_size) - initial_equity_value\n",
        " \n",
        "  total_profit = round(sum(pnl_list), 2)\n",
        "  num_of_trade = round(len(pnl_list), 2)\n",
        "  avg_pnl = total_profit/ num_of_trade if num_of_trade else 0\n",
        "\n",
        "  return num_of_trade, total_profit, avg_pnl"
      ],
      "metadata": {
        "id": "awq-zvBGbO3v"
      },
      "execution_count": 548,
      "outputs": []
    },
    {
      "cell_type": "markdown",
      "source": [
        "**Calculating Total PNL**"
      ],
      "metadata": {
        "id": "CDNIpF1Gd9q1"
      }
    },
    {
      "cell_type": "code",
      "source": [
        "backtest_values = []\n",
        "transactions = []\n",
        "\n",
        "for ticker in df_list:\n",
        "  try:\n",
        "    result = backtest_macd(ticker)\n",
        "    backtest_values.append(list(result))\n",
        "    \n",
        "    backtest_dict = dict(zip(ticker_list, backtest_values))\n",
        "    backtest_raw = pd.DataFrame(backtest_dict.items(), columns=['Ticker', 'Values'])\n",
        "    backtest_result = pd.concat([backtest_raw['Ticker'], pd.DataFrame(backtest_raw['Values'].tolist())],axis = 1)\n",
        "    backtest_result.columns = ['Ticker', 'No of Trade', 'Total PNL', 'Avg PNL/ Trade']\n",
        "    Full_PNL = backtest_result['Total PNL'].sum().round(2)\n",
        "  except:\n",
        "    print('No Trade')"
      ],
      "metadata": {
        "id": "rMzAV5waAOir"
      },
      "execution_count": 549,
      "outputs": []
    },
    {
      "cell_type": "code",
      "source": [
        "measure_date = df_list[1].loc[1, 'Date']\n",
        "print('Trade period:', (measure_date.strftime('%Y-%m-%d')), 'to', end_date)\n",
        "ROI = ((Full_PNL/ initial_capital)*100).round(2)\n",
        "print('Total No of Trades Executed:', (backtest_result['No of Trade'].sum()))\n",
        "print('Total PNL: USD', Full_PNL)\n",
        "print('Required Capital: USD', initial_capital)\n",
        "print('ROI: ', ROI, '%')\n",
        "backtest_result.sort_values(by=['Total PNL', 'Avg PNL/ Trade'], ascending=False)"
      ],
      "metadata": {
        "colab": {
          "base_uri": "https://localhost:8080/",
          "height": 450
        },
        "id": "V1sMRo5Iaom4",
        "outputId": "8a459d02-5a17-4d51-b36b-b77b9b1db670"
      },
      "execution_count": 550,
      "outputs": [
        {
          "output_type": "stream",
          "name": "stdout",
          "text": [
            "Trade period: 2022-01-04 to 2022-12-31\n",
            "Total No of Trades Executed: 27\n",
            "Total PNL: USD 1731.79\n",
            "Required Capital: USD 8000\n",
            "ROI:  21.65 %\n"
          ]
        },
        {
          "output_type": "execute_result",
          "data": {
            "text/plain": [
              "  Ticker  No of Trade  Total PNL  Avg PNL/ Trade\n",
              "3   SQQQ            1     525.53      525.530000\n",
              "2   UVXY            3     332.53      110.843333\n",
              "4    MOS            3     178.95       59.650000\n",
              "8    ABR            4     163.58       40.895000\n",
              "1    WPC            3     124.35       41.450000\n",
              "0    IRM            3     117.52       39.173333\n",
              "5   ARCC            2     101.57       50.785000\n",
              "6   HTGC            3      80.84       26.946667\n",
              "9    CTO            2      61.36       30.680000\n",
              "7   ACRE            3      45.56       15.186667"
            ],
            "text/html": [
              "\n",
              "  <div id=\"df-da81881c-16d1-4faf-b5e1-2483d5050749\">\n",
              "    <div class=\"colab-df-container\">\n",
              "      <div>\n",
              "<style scoped>\n",
              "    .dataframe tbody tr th:only-of-type {\n",
              "        vertical-align: middle;\n",
              "    }\n",
              "\n",
              "    .dataframe tbody tr th {\n",
              "        vertical-align: top;\n",
              "    }\n",
              "\n",
              "    .dataframe thead th {\n",
              "        text-align: right;\n",
              "    }\n",
              "</style>\n",
              "<table border=\"1\" class=\"dataframe\">\n",
              "  <thead>\n",
              "    <tr style=\"text-align: right;\">\n",
              "      <th></th>\n",
              "      <th>Ticker</th>\n",
              "      <th>No of Trade</th>\n",
              "      <th>Total PNL</th>\n",
              "      <th>Avg PNL/ Trade</th>\n",
              "    </tr>\n",
              "  </thead>\n",
              "  <tbody>\n",
              "    <tr>\n",
              "      <th>3</th>\n",
              "      <td>SQQQ</td>\n",
              "      <td>1</td>\n",
              "      <td>525.53</td>\n",
              "      <td>525.530000</td>\n",
              "    </tr>\n",
              "    <tr>\n",
              "      <th>2</th>\n",
              "      <td>UVXY</td>\n",
              "      <td>3</td>\n",
              "      <td>332.53</td>\n",
              "      <td>110.843333</td>\n",
              "    </tr>\n",
              "    <tr>\n",
              "      <th>4</th>\n",
              "      <td>MOS</td>\n",
              "      <td>3</td>\n",
              "      <td>178.95</td>\n",
              "      <td>59.650000</td>\n",
              "    </tr>\n",
              "    <tr>\n",
              "      <th>8</th>\n",
              "      <td>ABR</td>\n",
              "      <td>4</td>\n",
              "      <td>163.58</td>\n",
              "      <td>40.895000</td>\n",
              "    </tr>\n",
              "    <tr>\n",
              "      <th>1</th>\n",
              "      <td>WPC</td>\n",
              "      <td>3</td>\n",
              "      <td>124.35</td>\n",
              "      <td>41.450000</td>\n",
              "    </tr>\n",
              "    <tr>\n",
              "      <th>0</th>\n",
              "      <td>IRM</td>\n",
              "      <td>3</td>\n",
              "      <td>117.52</td>\n",
              "      <td>39.173333</td>\n",
              "    </tr>\n",
              "    <tr>\n",
              "      <th>5</th>\n",
              "      <td>ARCC</td>\n",
              "      <td>2</td>\n",
              "      <td>101.57</td>\n",
              "      <td>50.785000</td>\n",
              "    </tr>\n",
              "    <tr>\n",
              "      <th>6</th>\n",
              "      <td>HTGC</td>\n",
              "      <td>3</td>\n",
              "      <td>80.84</td>\n",
              "      <td>26.946667</td>\n",
              "    </tr>\n",
              "    <tr>\n",
              "      <th>9</th>\n",
              "      <td>CTO</td>\n",
              "      <td>2</td>\n",
              "      <td>61.36</td>\n",
              "      <td>30.680000</td>\n",
              "    </tr>\n",
              "    <tr>\n",
              "      <th>7</th>\n",
              "      <td>ACRE</td>\n",
              "      <td>3</td>\n",
              "      <td>45.56</td>\n",
              "      <td>15.186667</td>\n",
              "    </tr>\n",
              "  </tbody>\n",
              "</table>\n",
              "</div>\n",
              "      <button class=\"colab-df-convert\" onclick=\"convertToInteractive('df-da81881c-16d1-4faf-b5e1-2483d5050749')\"\n",
              "              title=\"Convert this dataframe to an interactive table.\"\n",
              "              style=\"display:none;\">\n",
              "        \n",
              "  <svg xmlns=\"http://www.w3.org/2000/svg\" height=\"24px\"viewBox=\"0 0 24 24\"\n",
              "       width=\"24px\">\n",
              "    <path d=\"M0 0h24v24H0V0z\" fill=\"none\"/>\n",
              "    <path d=\"M18.56 5.44l.94 2.06.94-2.06 2.06-.94-2.06-.94-.94-2.06-.94 2.06-2.06.94zm-11 1L8.5 8.5l.94-2.06 2.06-.94-2.06-.94L8.5 2.5l-.94 2.06-2.06.94zm10 10l.94 2.06.94-2.06 2.06-.94-2.06-.94-.94-2.06-.94 2.06-2.06.94z\"/><path d=\"M17.41 7.96l-1.37-1.37c-.4-.4-.92-.59-1.43-.59-.52 0-1.04.2-1.43.59L10.3 9.45l-7.72 7.72c-.78.78-.78 2.05 0 2.83L4 21.41c.39.39.9.59 1.41.59.51 0 1.02-.2 1.41-.59l7.78-7.78 2.81-2.81c.8-.78.8-2.07 0-2.86zM5.41 20L4 18.59l7.72-7.72 1.47 1.35L5.41 20z\"/>\n",
              "  </svg>\n",
              "      </button>\n",
              "      \n",
              "  <style>\n",
              "    .colab-df-container {\n",
              "      display:flex;\n",
              "      flex-wrap:wrap;\n",
              "      gap: 12px;\n",
              "    }\n",
              "\n",
              "    .colab-df-convert {\n",
              "      background-color: #E8F0FE;\n",
              "      border: none;\n",
              "      border-radius: 50%;\n",
              "      cursor: pointer;\n",
              "      display: none;\n",
              "      fill: #1967D2;\n",
              "      height: 32px;\n",
              "      padding: 0 0 0 0;\n",
              "      width: 32px;\n",
              "    }\n",
              "\n",
              "    .colab-df-convert:hover {\n",
              "      background-color: #E2EBFA;\n",
              "      box-shadow: 0px 1px 2px rgba(60, 64, 67, 0.3), 0px 1px 3px 1px rgba(60, 64, 67, 0.15);\n",
              "      fill: #174EA6;\n",
              "    }\n",
              "\n",
              "    [theme=dark] .colab-df-convert {\n",
              "      background-color: #3B4455;\n",
              "      fill: #D2E3FC;\n",
              "    }\n",
              "\n",
              "    [theme=dark] .colab-df-convert:hover {\n",
              "      background-color: #434B5C;\n",
              "      box-shadow: 0px 1px 3px 1px rgba(0, 0, 0, 0.15);\n",
              "      filter: drop-shadow(0px 1px 2px rgba(0, 0, 0, 0.3));\n",
              "      fill: #FFFFFF;\n",
              "    }\n",
              "  </style>\n",
              "\n",
              "      <script>\n",
              "        const buttonEl =\n",
              "          document.querySelector('#df-da81881c-16d1-4faf-b5e1-2483d5050749 button.colab-df-convert');\n",
              "        buttonEl.style.display =\n",
              "          google.colab.kernel.accessAllowed ? 'block' : 'none';\n",
              "\n",
              "        async function convertToInteractive(key) {\n",
              "          const element = document.querySelector('#df-da81881c-16d1-4faf-b5e1-2483d5050749');\n",
              "          const dataTable =\n",
              "            await google.colab.kernel.invokeFunction('convertToInteractive',\n",
              "                                                     [key], {});\n",
              "          if (!dataTable) return;\n",
              "\n",
              "          const docLinkHtml = 'Like what you see? Visit the ' +\n",
              "            '<a target=\"_blank\" href=https://colab.research.google.com/notebooks/data_table.ipynb>data table notebook</a>'\n",
              "            + ' to learn more about interactive tables.';\n",
              "          element.innerHTML = '';\n",
              "          dataTable['output_type'] = 'display_data';\n",
              "          await google.colab.output.renderOutput(dataTable, element);\n",
              "          const docLink = document.createElement('div');\n",
              "          docLink.innerHTML = docLinkHtml;\n",
              "          element.appendChild(docLink);\n",
              "        }\n",
              "      </script>\n",
              "    </div>\n",
              "  </div>\n",
              "  "
            ]
          },
          "metadata": {},
          "execution_count": 550
        }
      ]
    },
    {
      "cell_type": "code",
      "source": [
        "ABR[['MACD', 'MACD_signal']].plot(figsize=(12,4))"
      ],
      "metadata": {
        "colab": {
          "base_uri": "https://localhost:8080/",
          "height": 282
        },
        "id": "AI5Z4jYpz02j",
        "outputId": "0d0e7e1b-d79d-4c6f-8b6f-3be95234eff4"
      },
      "execution_count": 552,
      "outputs": [
        {
          "output_type": "execute_result",
          "data": {
            "text/plain": [
              "<matplotlib.axes._subplots.AxesSubplot at 0x7fdf7264c810>"
            ]
          },
          "metadata": {},
          "execution_count": 552
        },
        {
          "output_type": "display_data",
          "data": {
            "text/plain": [
              "<Figure size 864x288 with 1 Axes>"
            ],
            "image/png": "[encoded data removed]"
          },
          "metadata": {
            "needs_background": "light"
          }
        }
      ]
    }
  ]
}