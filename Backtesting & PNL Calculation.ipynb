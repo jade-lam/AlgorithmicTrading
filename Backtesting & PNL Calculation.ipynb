{
  "nbformat": 4,
  "nbformat_minor": 0,
  "metadata": {
    "colab": {
      "provenance": [],
      "collapsed_sections": [],
      "authorship_tag": "ABX9TyM3H9uRy7CKKdRc9qffn4Kw"
    },
    "kernelspec": {
      "name": "python3",
      "display_name": "Python 3"
    },
    "language_info": {
      "name": "python"
    }
  },
  "cells": [
    {
      "cell_type": "code",
      "source": [
        "#!pip install plotguy\n",
        "#!pip install hkfdb\n",
        "#!pip install yfinance --upgrade\n",
        "#!pip install talib-binary"
      ],
      "metadata": {
        "id": "bZ5b77AKcWUG"
      },
      "execution_count": 163,
      "outputs": []
    },
    {
      "cell_type": "code",
      "execution_count": 164,
      "metadata": {
        "id": "ZqvFeGRKbu3f"
      },
      "outputs": [],
      "source": [
        "import os\n",
        "import sys\n",
        "import copy\n",
        "import datetime\n",
        "import time\n",
        "import itertools\n",
        "\n",
        "import pandas as pd\n",
        "import numpy as np\n",
        "\n",
        "import seaborn as sns\n",
        "import matplotlib.pyplot as plt\n",
        "#import plotguy\n",
        "\n",
        "import yfinance as yf\n",
        "import talib as ta"
      ]
    },
    {
      "cell_type": "code",
      "source": [
        "from google.colab import drive\n",
        "drive.mount('/content/drive')"
      ],
      "metadata": {
        "colab": {
          "base_uri": "https://localhost:8080/"
        },
        "id": "I9JW6zsuczKD",
        "outputId": "5354f87a-da8c-4595-f27c-384d66871249"
      },
      "execution_count": 165,
      "outputs": [
        {
          "output_type": "stream",
          "name": "stdout",
          "text": [
            "Drive already mounted at /content/drive; to attempt to forcibly remount, call drive.mount(\"/content/drive\", force_remount=True).\n"
          ]
        }
      ]
    },
    {
      "cell_type": "code",
      "source": [
        "#import own data manipulation toolkit\n",
        "sys.path.append('/content/drive/MyDrive/Colab Notebooks/Algorithmic trading')\n",
        "import _datatoolkit as dtk"
      ],
      "metadata": {
        "id": "_06hI5AgHoJK"
      },
      "execution_count": 166,
      "outputs": []
    },
    {
      "cell_type": "markdown",
      "source": [
        "Defining Data Folder Structures"
      ],
      "metadata": {
        "id": "R1WxUo_NA53l"
      }
    },
    {
      "cell_type": "code",
      "source": [
        "#data folder structures\n",
        "data_folder = '/content/drive/MyDrive/Colab Notebooks/Algorithmic trading/data'\n",
        "backtest_output_folder = '/content/drive/MyDrive/Colab Notebooks/Algorithmic trading/backtest_output'"
      ],
      "metadata": {
        "id": "Ues210hbdWXy"
      },
      "execution_count": 167,
      "outputs": []
    },
    {
      "cell_type": "markdown",
      "source": [
        "**Define Tickers List, Backtest Date Range and Data Retrival Intervals**"
      ],
      "metadata": {
        "id": "MSd2eNNfA8R7"
      }
    },
    {
      "cell_type": "code",
      "source": [
        "# define list of tickers to backtest\n",
        "#ticker_list = ['ARCC', 'STAG', 'O', 'WPC', 'MAIN', 'ABR', 'ACRE', 'DIVO', 'JEPI', 'LTC', 'OHI', 'PFLT', 'QYLD', 'SCHD', 'STOR', 'XRMI']\n",
        "ticker_list = ['ABBV', 'CWEN', 'WPC', 'IRM', 'DIVO', 'LTC', 'MOS', 'UVXY', 'ARCC', 'APA']\n",
        "\n",
        "# define date range\n",
        "start_date = '2019-03-20'\n",
        "end_date = '2021-12-31'\n",
        "interval = '1d'\n",
        "\n",
        "# initial capital in USD\n",
        "initial_capital = 8000\n",
        "\n",
        "# position sizing\n",
        "pos_size = round(initial_capital/len(ticker_list),2)"
      ],
      "metadata": {
        "id": "OPlPECcwdt0E"
      },
      "execution_count": 168,
      "outputs": []
    },
    {
      "cell_type": "markdown",
      "source": [
        "**Getting OHLC Data from Yahoo Finance** </b>\n",
        "\n",
        "\n",
        "*   Get stock data based on ticker list from Yahoo Finance\n",
        "*   Create each stock data as different dataframe\n",
        "*   Add Technical Analysis indicators from TA-Lib\n",
        "*   Pointing working directory to data folder, export dach dataframe as independent csv file \n",
        "\n",
        "\n",
        "\n"
      ],
      "metadata": {
        "id": "ftTZqrlsBCh-"
      }
    },
    {
      "cell_type": "code",
      "source": [
        "# changing working directory to data folder's path\n",
        "data_folder = '/content/drive/MyDrive/Colab Notebooks/Algorithmic trading/data'\n",
        "os.chdir(data_folder)\n",
        "\n",
        "# getting OHLC data from yfinance package, if auto_adjust=True, OHLC data will not have adj close column, use progress=False to get rid of comments\n",
        "# Other indicators: 14 day RSI\n",
        "for ticker in ticker_list:\n",
        "  try:\n",
        "    globals()[ticker] = pd.DataFrame\n",
        "    globals()[ticker] = yf.download(ticker, start=start_date, end=end_date, interval=interval, auto_adjust=True, back_adjust=True, progress=False)\n",
        "    globals()[ticker]['50EMA'] = ta.EMA(globals()[ticker]['Close'], timeperiod=50)\n",
        "    globals()[ticker]['200EMA'] = ta.EMA(globals()[ticker]['Close'], timeperiod=200) \n",
        "    globals()[ticker]['ATR'] = ta.ATR(globals()[ticker]['High'], globals()[ticker]['Low'], globals()[ticker]['Close'], timeperiod=14)\n",
        "    globals()[ticker]['RSI'] = ta.RSI(globals()[ticker]['Close'], timeperiod=14)\n",
        "    globals()[ticker]['MACD'], globals()[ticker]['MACD_signal'], globals()[ticker]['MACD_hist'] = ta.MACD(globals()[ticker]['Close'], fastperiod=12, slowperiod=26, signalperiod=9)\n",
        "    globals()[ticker]['ADX'] = ta.ADX(globals()[ticker]['High'], globals()[ticker]['Open'], globals()[ticker]['Close'], 14)\n",
        "    globals()[ticker] = globals()[ticker].drop(['Volume', 'MACD_hist'], axis=1)\n",
        "    globals()[ticker] = globals()[ticker].round(4).dropna()\n",
        "    globals()[ticker] = globals()[ticker].reset_index()\n",
        "    globals()[ticker]['Position'] = 0\n",
        "    globals()[ticker][['Equity Value', 'MDD_dollar', 'PNL']] = np.NAN\n",
        "    \n",
        "    #writing each ticker dataframe into separate .csv files, save to google drive\n",
        "    #globals()[ticker].to_csv(ticker+'.csv', index=False, header=True)\n",
        "  except:\n",
        "    print(globals()[ticker])"
      ],
      "metadata": {
        "id": "dQO16Sjnku9-"
      },
      "execution_count": 169,
      "outputs": []
    },
    {
      "cell_type": "markdown",
      "source": [
        "**Other Optional Indicators:** </b>\n",
        "\n",
        "**MACD_hist** - globals()[ticker]['MACD'], globals()[ticker]['MACD_signal'], globals()[ticker]['MACD_hist'] = ta.MACD(globals()[ticker]['Close'], fastperiod=12, slowperiod=26, signalperiod=9) </b>\n",
        "\n",
        "**ADXR** - globals()[ticker]['ADXR'] = ta.ADXR(globals()[ticker]['High'], globals()[ticker]['Open'], globals()[ticker]['Close'], 14)\n"
      ],
      "metadata": {
        "id": "MP5bSd4XYw9z"
      }
    },
    {
      "cell_type": "code",
      "source": [
        "#df_list = [ARCC, STAG, O, WPC, MAIN, ABR, ACRE, DIVO, JEPI, LTC, OHI, PFLT, QYLD, SCHD, STOR, XRMI]\n",
        "df_list = [ABBV, CWEN, WPC, IRM, DIVO, LTC, MOS, UVXY, ARCC, APA]"
      ],
      "metadata": {
        "id": "Q84e-irDApCI"
      },
      "execution_count": 170,
      "outputs": []
    },
    {
      "cell_type": "markdown",
      "source": [
        "**Back Testing** </b>\n",
        "\n",
        "\n",
        "*   Backtesting of Trade Logic across all tickers and in the designated timeframe\n",
        "*   Backtesting for Trade strategy with simulated PNL\n",
        "\n"
      ],
      "metadata": {
        "id": "fFQAe6c_BGIJ"
      }
    },
    {
      "cell_type": "code",
      "source": [
        "# Class to call Pandas by row and column\n",
        "# https://stackoverflow.com/questions/28754603/indexing-pandas-data-frames-integer-rows-named-columns \n",
        "class XLocIndexer:\n",
        "    def __init__(self, frame):\n",
        "        self.frame = frame\n",
        "    \n",
        "    def __getitem__(self, key):\n",
        "        row, col = key\n",
        "        return self.frame.iloc[row][col]\n",
        "\n",
        "pd.core.indexing.IndexingMixin.xloc = property(lambda frame: XLocIndexer(frame))"
      ],
      "metadata": {
        "id": "Hq1YkFgEwoRZ"
      },
      "execution_count": 171,
      "outputs": []
    },
    {
      "cell_type": "code",
      "source": [
        "def backtest(df):\n",
        "  #start_index = 0\n",
        "  #end_index = len(df)\n",
        "  pos_size = 1000\n",
        "  pos_opened = False\n",
        "  open_price  = 0\n",
        "  close_price = 0\n",
        "  \n",
        "  pnl = 0\n",
        "  pnl_list = []\n",
        "  \n",
        "  lot_size = 0\n",
        "  initial_equity_value = 0\n",
        "  stop_loss = initial_equity_value * 0.1\n",
        "  profit_target = initial_equity_value * 1.06\n",
        "\n",
        "  for i in range(len(df)):\n",
        "    now_open        = df.loc[i, 'Open']\n",
        "    now_close       = df.loc[i, 'Close']\n",
        "    now_50EMA       = df.loc[i, '50EMA']\n",
        "    now_200EMA      = df.loc[i, '200EMA']\n",
        "    now_rsi         = df.loc[i, 'RSI']\n",
        "    now_MACD        = df.loc[i, 'MACD']\n",
        "    now_MACD_signal = df.loc[i, 'MACD_signal']\n",
        "    now_ADX         = df.loc[i, 'ADX']\n",
        "    now_position    = df.loc[i, 'Position']\n",
        "    now_equity_val  = df.loc[i, 'Equity Value']\n",
        "    now_mdd_dollar  = df.loc[i, 'MDD_dollar']\n",
        "\n",
        "    # opening a position\n",
        "    if (pos_opened == False) and ((now_MACD > now_MACD_signal) and (now_rsi < 45)):\n",
        "      pos_opened = True\n",
        "      open_price = now_open\n",
        "      lot_size = pos_size//open_price\n",
        "      buy_commission = (0.0049 + 0.005) * lot_size\n",
        "      initial_equity_value = ((lot_size * open_price) - buy_commission)\n",
        "      df.loc[i, 'Position'] = 1\n",
        "      df.loc[i, 'Equity Value'] = initial_equity_value\n",
        "    \n",
        "    # closing a position\n",
        "    elif (pos_opened == True) and (now_MACD < now_MACD_signal):\n",
        "      pos_opened = False\n",
        "      close_price = now_open\n",
        "      sell_commission = (0.04 * lot_size) + (close_price * lot_size * 0.0000229)\n",
        "      pnl = (close_price - open_price) * lot_size - sell_commission\n",
        "      df.loc[i, 'Position'] = 2\n",
        "      df.loc[i, 'Equity Value'] = (now_open * lot_size)\n",
        "      df.loc[i, 'MDD_dollar']     = (now_close * lot_size) - initial_equity_value\n",
        "      df.loc[i, 'PNL'] = pnl\n",
        "      pnl_list.append(pnl)\n",
        "\n",
        "      # reset values\n",
        "      open_price = 0\n",
        "      close_price = 0\n",
        "      initial_equity_value = 0\n",
        "      lot_size = 0\n",
        "      stop_loss = 0\n",
        "\n",
        "    # calculating daily drawdowns\n",
        "    #else (pos_opened == True):\n",
        "    elif (pos_opened==True):\n",
        "      #df.loc[i, 'Position'] = 1\n",
        "      df.loc[i, 'Equity Value']   = (now_close * lot_size)\n",
        "      df.loc[i, 'MDD_dollar']     = (now_close * lot_size) - initial_equity_value\n",
        " \n",
        "  total_profit = round(sum(pnl_list), 2)\n",
        "  num_of_trade = round(len(pnl_list), 2)\n",
        "  avg_pnl = total_profit/ num_of_trade if num_of_trade else 0\n",
        "\n",
        "  return num_of_trade, total_profit, avg_pnl\n",
        "\n",
        "  var = backtest(df)"
      ],
      "metadata": {
        "id": "awq-zvBGbO3v"
      },
      "execution_count": 172,
      "outputs": []
    },
    {
      "cell_type": "markdown",
      "source": [
        "**Calculating Total PNL**"
      ],
      "metadata": {
        "id": "CDNIpF1Gd9q1"
      }
    },
    {
      "cell_type": "code",
      "source": [
        "backtest_values = []\n",
        "transactions = []\n",
        "\n",
        "for ticker in df_list:\n",
        "  try:\n",
        "    result = backtest(ticker)\n",
        "    backtest_values.append(list(result))\n",
        "    \n",
        "    backtest_dict = dict(zip(ticker_list, backtest_values))\n",
        "    backtest_raw = pd.DataFrame(backtest_dict.items(), columns=['Ticker', 'Values'])\n",
        "    backtest_result = pd.concat([backtest_raw['Ticker'], pd.DataFrame(backtest_raw['Values'].tolist())],axis = 1)\n",
        "    backtest_result.columns = ['Ticker', 'No of Trade', 'Total PNL', 'Avg PNL/ Trade']\n",
        "    Full_PNL = backtest_result['Total PNL'].sum().round(2)\n",
        "  except:\n",
        "    print('No Trade')"
      ],
      "metadata": {
        "id": "rMzAV5waAOir"
      },
      "execution_count": 173,
      "outputs": []
    },
    {
      "cell_type": "code",
      "source": [
        "#measure_date = df_list[0][1, 'Date']\n",
        "#print('Trade period:', (measure_date.strftime('%Y-%m-%d')), 'to', end_date)\n",
        "ROI = ((Full_PNL/ initial_capital)*100).round(2)\n",
        "print('Total No of Trades Executed:', (backtest_result['No of Trade'].sum()))\n",
        "print('Total PNL: USD', Full_PNL)\n",
        "print('Required Capital: USD', initial_capital)\n",
        "print('ROI: ', ROI, '%')\n",
        "backtest_result.sort_values(by=['Total PNL', 'Avg PNL/ Trade'], ascending=False)"
      ],
      "metadata": {
        "colab": {
          "base_uri": "https://localhost:8080/",
          "height": 432
        },
        "id": "V1sMRo5Iaom4",
        "outputId": "f56b84b8-8d5b-480c-d23a-a5d17ca959f9"
      },
      "execution_count": 174,
      "outputs": [
        {
          "output_type": "stream",
          "name": "stdout",
          "text": [
            "Total No of Trades Executed: 46\n",
            "Total PNL: USD 1288.96\n",
            "Required Capital: USD 8000\n",
            "ROI:  16.11 %\n"
          ]
        },
        {
          "output_type": "execute_result",
          "data": {
            "text/plain": [
              "  Ticker  No of Trade  Total PNL  Avg PNL/ Trade\n",
              "9    APA            4    1344.12         336.030\n",
              "8   ARCC            2     384.29         192.145\n",
              "0   ABBV            5     337.13          67.426\n",
              "5    LTC            8     257.04          32.130\n",
              "2    WPC            3     131.25          43.750\n",
              "4   DIVO            1     120.61         120.610\n",
              "1   CWEN            1     -57.50         -57.500\n",
              "6    MOS            3    -140.25         -46.750\n",
              "3    IRM            4    -222.14         -55.535\n",
              "7   UVXY           15    -865.59         -57.706"
            ],
            "text/html": [
              "\n",
              "  <div id=\"df-35bd7304-7952-4b52-8504-e4ac7020a57c\">\n",
              "    <div class=\"colab-df-container\">\n",
              "      <div>\n",
              "<style scoped>\n",
              "    .dataframe tbody tr th:only-of-type {\n",
              "        vertical-align: middle;\n",
              "    }\n",
              "\n",
              "    .dataframe tbody tr th {\n",
              "        vertical-align: top;\n",
              "    }\n",
              "\n",
              "    .dataframe thead th {\n",
              "        text-align: right;\n",
              "    }\n",
              "</style>\n",
              "<table border=\"1\" class=\"dataframe\">\n",
              "  <thead>\n",
              "    <tr style=\"text-align: right;\">\n",
              "      <th></th>\n",
              "      <th>Ticker</th>\n",
              "      <th>No of Trade</th>\n",
              "      <th>Total PNL</th>\n",
              "      <th>Avg PNL/ Trade</th>\n",
              "    </tr>\n",
              "  </thead>\n",
              "  <tbody>\n",
              "    <tr>\n",
              "      <th>9</th>\n",
              "      <td>APA</td>\n",
              "      <td>4</td>\n",
              "      <td>1344.12</td>\n",
              "      <td>336.030</td>\n",
              "    </tr>\n",
              "    <tr>\n",
              "      <th>8</th>\n",
              "      <td>ARCC</td>\n",
              "      <td>2</td>\n",
              "      <td>384.29</td>\n",
              "      <td>192.145</td>\n",
              "    </tr>\n",
              "    <tr>\n",
              "      <th>0</th>\n",
              "      <td>ABBV</td>\n",
              "      <td>5</td>\n",
              "      <td>337.13</td>\n",
              "      <td>67.426</td>\n",
              "    </tr>\n",
              "    <tr>\n",
              "      <th>5</th>\n",
              "      <td>LTC</td>\n",
              "      <td>8</td>\n",
              "      <td>257.04</td>\n",
              "      <td>32.130</td>\n",
              "    </tr>\n",
              "    <tr>\n",
              "      <th>2</th>\n",
              "      <td>WPC</td>\n",
              "      <td>3</td>\n",
              "      <td>131.25</td>\n",
              "      <td>43.750</td>\n",
              "    </tr>\n",
              "    <tr>\n",
              "      <th>4</th>\n",
              "      <td>DIVO</td>\n",
              "      <td>1</td>\n",
              "      <td>120.61</td>\n",
              "      <td>120.610</td>\n",
              "    </tr>\n",
              "    <tr>\n",
              "      <th>1</th>\n",
              "      <td>CWEN</td>\n",
              "      <td>1</td>\n",
              "      <td>-57.50</td>\n",
              "      <td>-57.500</td>\n",
              "    </tr>\n",
              "    <tr>\n",
              "      <th>6</th>\n",
              "      <td>MOS</td>\n",
              "      <td>3</td>\n",
              "      <td>-140.25</td>\n",
              "      <td>-46.750</td>\n",
              "    </tr>\n",
              "    <tr>\n",
              "      <th>3</th>\n",
              "      <td>IRM</td>\n",
              "      <td>4</td>\n",
              "      <td>-222.14</td>\n",
              "      <td>-55.535</td>\n",
              "    </tr>\n",
              "    <tr>\n",
              "      <th>7</th>\n",
              "      <td>UVXY</td>\n",
              "      <td>15</td>\n",
              "      <td>-865.59</td>\n",
              "      <td>-57.706</td>\n",
              "    </tr>\n",
              "  </tbody>\n",
              "</table>\n",
              "</div>\n",
              "      <button class=\"colab-df-convert\" onclick=\"convertToInteractive('df-35bd7304-7952-4b52-8504-e4ac7020a57c')\"\n",
              "              title=\"Convert this dataframe to an interactive table.\"\n",
              "              style=\"display:none;\">\n",
              "        \n",
              "  <svg xmlns=\"http://www.w3.org/2000/svg\" height=\"24px\"viewBox=\"0 0 24 24\"\n",
              "       width=\"24px\">\n",
              "    <path d=\"M0 0h24v24H0V0z\" fill=\"none\"/>\n",
              "    <path d=\"M18.56 5.44l.94 2.06.94-2.06 2.06-.94-2.06-.94-.94-2.06-.94 2.06-2.06.94zm-11 1L8.5 8.5l.94-2.06 2.06-.94-2.06-.94L8.5 2.5l-.94 2.06-2.06.94zm10 10l.94 2.06.94-2.06 2.06-.94-2.06-.94-.94-2.06-.94 2.06-2.06.94z\"/><path d=\"M17.41 7.96l-1.37-1.37c-.4-.4-.92-.59-1.43-.59-.52 0-1.04.2-1.43.59L10.3 9.45l-7.72 7.72c-.78.78-.78 2.05 0 2.83L4 21.41c.39.39.9.59 1.41.59.51 0 1.02-.2 1.41-.59l7.78-7.78 2.81-2.81c.8-.78.8-2.07 0-2.86zM5.41 20L4 18.59l7.72-7.72 1.47 1.35L5.41 20z\"/>\n",
              "  </svg>\n",
              "      </button>\n",
              "      \n",
              "  <style>\n",
              "    .colab-df-container {\n",
              "      display:flex;\n",
              "      flex-wrap:wrap;\n",
              "      gap: 12px;\n",
              "    }\n",
              "\n",
              "    .colab-df-convert {\n",
              "      background-color: #E8F0FE;\n",
              "      border: none;\n",
              "      border-radius: 50%;\n",
              "      cursor: pointer;\n",
              "      display: none;\n",
              "      fill: #1967D2;\n",
              "      height: 32px;\n",
              "      padding: 0 0 0 0;\n",
              "      width: 32px;\n",
              "    }\n",
              "\n",
              "    .colab-df-convert:hover {\n",
              "      background-color: #E2EBFA;\n",
              "      box-shadow: 0px 1px 2px rgba(60, 64, 67, 0.3), 0px 1px 3px 1px rgba(60, 64, 67, 0.15);\n",
              "      fill: #174EA6;\n",
              "    }\n",
              "\n",
              "    [theme=dark] .colab-df-convert {\n",
              "      background-color: #3B4455;\n",
              "      fill: #D2E3FC;\n",
              "    }\n",
              "\n",
              "    [theme=dark] .colab-df-convert:hover {\n",
              "      background-color: #434B5C;\n",
              "      box-shadow: 0px 1px 3px 1px rgba(0, 0, 0, 0.15);\n",
              "      filter: drop-shadow(0px 1px 2px rgba(0, 0, 0, 0.3));\n",
              "      fill: #FFFFFF;\n",
              "    }\n",
              "  </style>\n",
              "\n",
              "      <script>\n",
              "        const buttonEl =\n",
              "          document.querySelector('#df-35bd7304-7952-4b52-8504-e4ac7020a57c button.colab-df-convert');\n",
              "        buttonEl.style.display =\n",
              "          google.colab.kernel.accessAllowed ? 'block' : 'none';\n",
              "\n",
              "        async function convertToInteractive(key) {\n",
              "          const element = document.querySelector('#df-35bd7304-7952-4b52-8504-e4ac7020a57c');\n",
              "          const dataTable =\n",
              "            await google.colab.kernel.invokeFunction('convertToInteractive',\n",
              "                                                     [key], {});\n",
              "          if (!dataTable) return;\n",
              "\n",
              "          const docLinkHtml = 'Like what you see? Visit the ' +\n",
              "            '<a target=\"_blank\" href=https://colab.research.google.com/notebooks/data_table.ipynb>data table notebook</a>'\n",
              "            + ' to learn more about interactive tables.';\n",
              "          element.innerHTML = '';\n",
              "          dataTable['output_type'] = 'display_data';\n",
              "          await google.colab.output.renderOutput(dataTable, element);\n",
              "          const docLink = document.createElement('div');\n",
              "          docLink.innerHTML = docLinkHtml;\n",
              "          element.appendChild(docLink);\n",
              "        }\n",
              "      </script>\n",
              "    </div>\n",
              "  </div>\n",
              "  "
            ]
          },
          "metadata": {},
          "execution_count": 174
        }
      ]
    },
    {
      "cell_type": "code",
      "source": [
        "UVXY[['MACD', 'MACD_signal']].plot(figsize=(12,4))"
      ],
      "metadata": {
        "colab": {
          "base_uri": "https://localhost:8080/",
          "height": 282
        },
        "id": "AI5Z4jYpz02j",
        "outputId": "c6e688f1-1e06-42c8-8c34-9d0aa4fd7676"
      },
      "execution_count": 175,
      "outputs": [
        {
          "output_type": "execute_result",
          "data": {
            "text/plain": [
              "<matplotlib.axes._subplots.AxesSubplot at 0x7fdf7352ff50>"
            ]
          },
          "metadata": {},
          "execution_count": 175
        },
        {
          "output_type": "display_data",
          "data": {
            "text/plain": [
              "<Figure size 864x288 with 1 Axes>"
            ],
            "image/png": "[encoded data removed]"
          },
          "metadata": {
            "needs_background": "light"
          }
        }
      ]
    },
    {
      "cell_type": "code",
      "source": [
        "# show all dataframe names in session\n",
        "# https://stackoverflow.com/questions/44835358/pandas-list-of-dataframe-names\n",
        "#all_df_in_mem = %who_ls DataFrame\n",
        "#all_df_in_mem\n"
      ],
      "metadata": {
        "id": "52CQO594wPf8"
      },
      "execution_count": 176,
      "outputs": []
    }
  ]
}