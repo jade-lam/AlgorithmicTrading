{
  "nbformat": 4,
  "nbformat_minor": 0,
  "metadata": {
    "colab": {
      "provenance": [],
      "authorship_tag": "ABX9TyOfQSit2i1EE6+jKSrJE544"
    },
    "kernelspec": {
      "name": "python3",
      "display_name": "Python 3"
    },
    "language_info": {
      "name": "python"
    }
  },
  "cells": [
    {
      "cell_type": "markdown",
      "source": [
        "Bollinger Bands Trading Strategy Optimization, with specific 3x leveraged Bull/ Bear ETFs </br>\n",
        "\n",
        "*   TQQQ - ProShares UltraPro QQQ ETF\n",
        "*   SQQQ - ProShares UltraPro Short QQQ ETF\n",
        "*   SPXL - Direxion Daily S&P 500 Bull 3X Shares ETF\n",
        "*   SPXS - Direxion Daily S&P 500 Bear 3X Shares ETF\n",
        "*   TZA  - Direxion Daily Small Cap Bear 3X ETF \n",
        "*   TNA  - Direxion Daily Small Cap Bull 3X ETF\n",
        "*   SOXL - Direxion Daily Semiconductor Bull 3X Shares ETF\n",
        "*   SOXS - Direxion Daily Semiconductor Bear 3X Shares ETF\n",
        "*   FAS  - Direxion Daily Financial Bull 3x Shares ETF\n",
        "*   FAZ  - Direxion Daily Financial Bear 3x Shares ETF\n",
        "*   LABU - Direxion Daily S&P Biotech Bull 3X Shares ETF\n",
        "*   LABD - Direxion Daily S&P Biotech Bear 3X Shares ETF\n",
        "*   EDC  - Direxion Daily MSCI Emerging Markets Bull 3X Shares ETF\n",
        "*   EDZ  - Direxion Daily MSCI Emerging Markets Bear 3X Shares ETF\n",
        "\n",
        "</br>\n",
        "ref: https://www.direxion.com/etfs?filter=bullbear3x"
      ],
      "metadata": {
        "id": "oA0mdoI8gWze"
      }
    },
    {
      "cell_type": "code",
      "execution_count": 2,
      "metadata": {
        "id": "EVyrqMpxhlQF"
      },
      "outputs": [],
      "source": [
        "#!pip install yfinance --upgrade\n",
        "#!pip install talib-binary\n",
        "#!wget http://prdownloads.sourceforge.net/ta-lib/ta-lib-0.4.0-src.tar.gz\n",
        "#!tar -xzvf ta-lib-0.4.0-src.tar.gz\n",
        "#%cd ta-lib\n",
        "#!./configure --prefix=/usr\n",
        "#!make\n",
        "#!make install\n",
        "#!pip install Ta-Lib\n",
        "#!pip install pandas-datareader\n",
        "#!pip install PyPortfolioOpt"
      ]
    },
    {
      "cell_type": "code",
      "source": [
        "import os\n",
        "import sys\n",
        "import copy\n",
        "from datetime import datetime, timedelta\n",
        "import time\n",
        "import itertools\n",
        "\n",
        "import pandas as pd\n",
        "import pandas_datareader as pdr\n",
        "import numpy as np\n",
        "\n",
        "import seaborn as sns\n",
        "import matplotlib.pyplot as plt\n",
        "\n",
        "import yfinance as yf\n",
        "import talib as ta\n",
        "from talib import MA_Type\n",
        "\n",
        "from pypfopt import risk_models\n",
        "from pypfopt import expected_returns\n",
        "from pypfopt.efficient_frontier import EfficientFrontier\n",
        "from pypfopt import objective_functions\n",
        "from pypfopt import cla\n",
        "from pypfopt import plotting"
      ],
      "metadata": {
        "id": "y9cjxnxehuL8"
      },
      "execution_count": 3,
      "outputs": []
    },
    {
      "cell_type": "markdown",
      "source": [
        "**1) Defining Data Folder Structures & Parameters**"
      ],
      "metadata": {
        "id": "-YG9kFEXU31c"
      }
    },
    {
      "cell_type": "code",
      "source": [
        "from google.colab import drive\n",
        "drive.mount('/content/drive')"
      ],
      "metadata": {
        "colab": {
          "base_uri": "https://localhost:8080/"
        },
        "id": "V3bSKfhVS9e6",
        "outputId": "c7e224a9-5060-42a2-f204-ff147b72a7fa"
      },
      "execution_count": 4,
      "outputs": [
        {
          "output_type": "stream",
          "name": "stdout",
          "text": [
            "Mounted at /content/drive\n"
          ]
        }
      ]
    },
    {
      "cell_type": "code",
      "source": [
        "#data folder structures\n",
        "data_folder = '/content/drive/MyDrive/Colab Notebooks/Algorithmic trading/data'\n",
        "backtest_output_folder = '/content/drive/MyDrive/Colab Notebooks/Algorithmic trading/backtest_output'"
      ],
      "metadata": {
        "id": "M3T29qSjTBHn"
      },
      "execution_count": 5,
      "outputs": []
    },
    {
      "cell_type": "code",
      "source": [
        "# pair inverse trade stocks\n",
        "ticker_list = ['TQQQ', 'SQQQ', 'SPXL', 'SPXS', 'TZA', 'TNA', 'SOXL', 'SOXS', 'FAS', 'FAZ', 'LABD', 'LABU', 'EDZ', 'EDC']\n",
        "\n",
        "# define date range\n",
        "start_date = '2021-03-20'\n",
        "end_date = '2022-12-31'\n",
        "interval = '1d'\n",
        "\n",
        "# initial capital in USD\n",
        "initial_capital = 7000\n",
        "\n",
        "# position sizing\n",
        "pos_size = round(initial_capital/len(ticker_list),2)"
      ],
      "metadata": {
        "id": "Eho-OZ5STDpT"
      },
      "execution_count": 6,
      "outputs": []
    },
    {
      "cell_type": "markdown",
      "source": [
        "**2) Getting OHLC Data from Yahoo Finance** </b>\n",
        "\n",
        "\n",
        "*   Get stock data based on ticker list from Yahoo Finance\n",
        "*   Create each stock data as different dataframe\n",
        "*   Add Technical Analysis indicators from TA-Lib\n",
        "*   Pointing working directory to data folder, export dach dataframe as independent csv file \n",
        "\n",
        "\n",
        "\n"
      ],
      "metadata": {
        "id": "k0P5DZbhVtYv"
      }
    },
    {
      "cell_type": "code",
      "source": [
        "# changing working directory to data folder's path\n",
        "data_folder = '/content/drive/MyDrive/Colab Notebooks/Algorithmic trading/data'\n",
        "os.chdir(data_folder)\n",
        "\n",
        "# getting OHLC data from yfinance package, if auto_adjust=True, OHLC data will not have adj close column, use progress=False to get rid of comments\n",
        "# Other indicators: 14 day RSI\n",
        "for ticker in ticker_list:\n",
        "  try:\n",
        "    globals()[ticker] = pd.DataFrame\n",
        "    globals()[ticker] = yf.download(ticker, start=start_date, end=end_date, interval=interval, auto_adjust=True, back_adjust=True, progress=False)\n",
        "    globals()[ticker]['200EMA'] = ta.EMA(globals()[ticker]['Close'], timeperiod=200) \n",
        "    globals()[ticker]['ATR'] = ta.ATR(globals()[ticker]['High'], globals()[ticker]['Low'], globals()[ticker]['Close'], timeperiod=14)\n",
        "    globals()[ticker]['RSI_14'] = ta.RSI(globals()[ticker]['Close'], timeperiod=14)\n",
        "    globals()[ticker]['MACD'], globals()[ticker]['MACD_signal'], globals()[ticker]['MACD_hist'] = ta.MACD(globals()[ticker]['Close'], fastperiod=12, slowperiod=26, signalperiod=9)\n",
        "    globals()[ticker]['ADX'] = ta.ADX(globals()[ticker]['High'], globals()[ticker]['Open'], globals()[ticker]['Close'], 14)\n",
        "    globals()[ticker]['MFI'] = ta.MFI(globals()[ticker]['High'], globals()[ticker]['Low'], globals()[ticker]['Close'], globals()[ticker]['Volume'], 14)\n",
        "    globals()[ticker]['WILL%R'] = ta.WILLR(globals()[ticker]['High'], globals()[ticker]['Low'], globals()[ticker]['Close'], timeperiod=14)\n",
        "\n",
        "    # Bollinger Bands\n",
        "    globals()[ticker]['BBand_U'], globals()[ticker]['BBand_M'], globals()[ticker]['BBand_L'] = ta.BBANDS(globals()[ticker]['Close']) # if add exponential smoothing, matype=MA_Type.T3\n",
        "\n",
        "    # add/drop columns and clean up\n",
        "    globals()[ticker] = globals()[ticker].dropna()\n",
        "    globals()[ticker] = globals()[ticker].reset_index()\n",
        "    globals()[ticker][['Position', 'Win Count']] = 0\n",
        "    globals()[ticker][['Lot Size', 'Equity Value', 'MDD_dollar', 'PNL', 'Holding Period']] = np.NAN\n",
        "    \n",
        "    #writing each ticker dataframe into separate .csv files, save to google drive\n",
        "    #globals()[ticker].to_csv(ticker+'.csv', index=False, header=True)\n",
        "  except:\n",
        "    print(globals()[ticker])"
      ],
      "metadata": {
        "id": "w0ufwWa9Vrwd"
      },
      "execution_count": 7,
      "outputs": []
    },
    {
      "cell_type": "markdown",
      "source": [
        "**Other Optional Indicators:** </b>\n",
        "\n",
        "**MACD_hist** - globals()[ticker]['MACD'], globals()[ticker]['MACD_signal'], globals()[ticker]['MACD_hist'] = ta.MACD(globals()[ticker]['Close'], fastperiod=12, slowperiod=26, signalperiod=9) </b>\n",
        "\n",
        "**ADX** - globals()[ticker]['ADX'] = ta.ADX(globals()[ticker]['High'], globals()[ticker]['Open'], globals()[ticker]['Close'], 14) </b>\n",
        "\n",
        "\n",
        "**ADXR** - globals()[ticker]['ADXR'] = ta.ADXR(globals()[ticker]['High'], globals()[ticker]['Open'], globals()[ticker]['Close'], 14) </b>\n",
        "\n",
        "**50 Day Exponential Moving Average** - globals()[ticker]['50EMA'] = ta.EMA(globals()[ticker]['Close'], timeperiod=50) </b>\n",
        "\n",
        "**Bollinger Bands** - globals()[ticker]['BBand_U'], globals()[ticker]['BBand_M'], globals()[ticker]['BBand_L'] = ta.BBANDS(globals()[ticker]['Close']) # if add exponential smoothing, matype=MA_Type.T3\n",
        "\n",
        "**Stochastic Indicators** - globals()[ticker]['Stoch_slowk'], globals()[ticker]['Stoch_slowd'] = ta.STOCH(globals()[ticker]['High'], globals()[ticker]['Low'], globals()[ticker]['Close'],                                                              fastk_period=21, slowk_period=5, slowk_matype=0, slowd_period=5, slowd_matype=0)    "
      ],
      "metadata": {
        "id": "ZAp_OPnEV41R"
      }
    },
    {
      "cell_type": "markdown",
      "source": [
        "**3) Building the DataFrame List, Perform Backtesting**"
      ],
      "metadata": {
        "id": "tNzavMxuXk-H"
      }
    },
    {
      "cell_type": "code",
      "source": [
        "# list of dataframes to be iterated after yfinance data pull \n",
        "df_list = [TQQQ, SQQQ, SPXL, SPXS, TZA, TNA, SOXL, SOXS, FAS, FAZ, LABD, LABU, EDZ, EDC]"
      ],
      "metadata": {
        "id": "uiD13LcIV4Xw"
      },
      "execution_count": 8,
      "outputs": []
    },
    {
      "cell_type": "code",
      "source": [
        "# function to extract dataframe name\n",
        "def get_df_name(df):\n",
        "   name =[x for x in globals() if globals()[x] is df][0]\n",
        "   return name"
      ],
      "metadata": {
        "id": "VNJz7O-ZXo53"
      },
      "execution_count": 9,
      "outputs": []
    },
    {
      "cell_type": "code",
      "source": [
        "# function to print function name as a string\n",
        "def get_func_name(func_name):\n",
        "    func_name = sys._getframe().f_code.co_name\n",
        "    return func_name"
      ],
      "metadata": {
        "id": "q9CDV6LeXpRx"
      },
      "execution_count": 10,
      "outputs": []
    },
    {
      "cell_type": "markdown",
      "source": [
        "**MACD Bollinger Bands Strategy**\n",
        "\n",
        "*   Entry Rule: Open Price < Lower Bollinger Band, MACD > MACD signal line > 0\n",
        "*   Exit Rule: Hit profit target/ stop loss/ last day of trade, MACD < signal line\n",
        "\n"
      ],
      "metadata": {
        "id": "30b0hu0UlP1F"
      }
    },
    {
      "cell_type": "code",
      "source": [
        "# defining the global list for storing trade list output\n",
        "global bb_macd_tradelist\n",
        "bb_macd_tradelist = []\n",
        "\n",
        "pos_size = round(initial_capital/len(ticker_list),2)"
      ],
      "metadata": {
        "id": "mSu1XgfXkBjx"
      },
      "execution_count": 11,
      "outputs": []
    },
    {
      "cell_type": "code",
      "source": [
        "# defining a backtest function based on trading rules, capture all transactions\n",
        "\n",
        "def backtest_bbmacd(df):\n",
        "  df_name = get_df_name(df)\n",
        "\n",
        "  pos_opened = False\n",
        "  open_price  = 0\n",
        "  close_price = 0\n",
        "  lot_size = 0\n",
        "\n",
        "  initial_equity_value = 0\n",
        "  win_counter = 0\n",
        "  open_trade_date = 0\n",
        "  holding_days = 0\n",
        "\n",
        "  pnl = 0\n",
        "  pnl_list = []\n",
        "    \n",
        "  for i in range(len(df)):\n",
        "    now_date        = df.loc[i, 'Date']\n",
        "    now_open        = df.loc[i, 'Open']\n",
        "    now_close       = df.loc[i, 'Close']\n",
        "    now_200EMA      = df.loc[i, '200EMA']\n",
        "    now_rsi_14      = df.loc[i, 'RSI_14']\n",
        "    now_MACD        = df.loc[i, 'MACD']\n",
        "    now_MACD_signal = df.loc[i, 'MACD_signal']\n",
        "    now_MACD_hist   = df.loc[i, 'MACD_hist']\n",
        "    now_bband_u     = df.loc[i, 'BBand_U']\n",
        "    now_bband_m     = df.loc[i, 'BBand_M']\n",
        "    now_bband_l     = df.loc[i, 'BBand_L']\n",
        "    now_position    = df.loc[i, 'Position']\n",
        "    now_equity_val  = df.loc[i, 'Equity Value']\n",
        "    now_mdd_dollar  = df.loc[i, 'MDD_dollar']\n",
        "    now_win_count   = df.loc[i, 'Win Count']\n",
        "\n",
        "    # opening a position\n",
        "    if (pos_opened == False and (now_open < now_bband_l and now_MACD > now_MACD_signal and now_MACD_hist > 0)):\n",
        "      pos_opened = True\n",
        "      open_trade_date = now_date\n",
        "      open_price = now_open\n",
        "      lot_size = pos_size//open_price\n",
        "      buy_commission = (0.0049 + 0.005) * lot_size\n",
        "      initial_equity_value = round(((lot_size * open_price) - buy_commission),2)\n",
        "      df.at[i, 'Position'] = 1\n",
        "      df.at[i, 'Lot Size'] = lot_size\n",
        "      df.at[i, 'Equity Value'] = initial_equity_value\n",
        "      bb_macd_tradelist.append([now_date, df_name, pos_opened, open_price, lot_size, initial_equity_value])\n",
        "\n",
        "    # closing a position - by MACD signal, or last day of trading or hit stop loss\n",
        "    elif (pos_opened == True and ((now_MACD < now_MACD_signal) or \\\n",
        "                                  (lot_size * now_open > initial_equity_value * 1.2) or (lot_size * now_open < initial_equity_value * 0.95) or \\\n",
        "                                  (now_date == df.loc[(len(df)-1), 'Date']))):\n",
        "      pos_opened = False\n",
        "      close_price = now_open\n",
        "      sell_commission = (0.04 * lot_size) + (close_price * lot_size * 0.0000229)\n",
        "      df.at[i, 'Position'] = 2\n",
        "      df.at[i, 'Lot Size'] = lot_size\n",
        "      df.at[i, 'Equity Value'] = (close_price * lot_size)\n",
        "      if (now_open * lot_size) < initial_equity_value:\n",
        "        df.loc[i, 'MDD_dollar']   = -(initial_equity_value - (now_open * lot_size))\n",
        "      else:\n",
        "        df.loc[i, 'MDD_dollar']   = 0\n",
        "      holding_days = now_date - open_trade_date\n",
        "      df.at[i, 'Holding Period'] = holding_days.days\n",
        "      \n",
        "      pnl = round(((close_price * lot_size) - sell_commission) - initial_equity_value,2)\n",
        "      df.at[i, 'PNL'] = pnl.round(2)\n",
        "      if pnl > 0:\n",
        "        df.at[i, 'Win Count'] = 1\n",
        "        win_counter += 1\n",
        "      pnl_list.append(pnl)\n",
        "      bb_macd_tradelist.append([now_date, df_name, pos_opened, close_price, lot_size, (close_price*lot_size), pnl, holding_days])\n",
        "\n",
        "      # reset values\n",
        "      open_price = 0\n",
        "      close_price = 0\n",
        "      initial_equity_value = 0\n",
        "      lot_size = 0\n",
        "      open_trade_date = 0\n",
        "\n",
        "    else:\n",
        "      df.loc[i, 'Equity Value']   = (now_open * lot_size)\n",
        "      df.loc[i, 'Lot Size']       = lot_size\n",
        "      if (now_open * lot_size) < initial_equity_value:\n",
        "        df.loc[i, 'MDD_dollar']   = initial_equity_value - (now_open * lot_size)\n",
        "      else:\n",
        "        df.loc[i, 'MDD_dollar']   = 0\n",
        "\n",
        "  total_profit = round(sum(pnl_list), 2)\n",
        "  num_of_trade = round(len(pnl_list), 2)\n",
        "  avg_pnl = round(total_profit/ num_of_trade, 2) if num_of_trade else 0\n",
        "  max_mdd = df['MDD_dollar'].min().round(2)\n",
        "  avg_hold_period = df['Holding Period'].mean().round(2)\n",
        "  win_rate = round(win_counter/ num_of_trade * 100,2)\n",
        "\n",
        "  return df_name, num_of_trade, total_profit, avg_pnl, max_mdd, avg_hold_period, win_rate"
      ],
      "metadata": {
        "id": "msSrJ0mThjRb"
      },
      "execution_count": 12,
      "outputs": []
    },
    {
      "cell_type": "code",
      "source": [
        "# create a for loop, put together trade summary list\n",
        "bbmacd_result_list = []\n",
        "\n",
        "for df in df_list:\n",
        "  try:\n",
        "    df_name = get_df_name(df)\n",
        "    test_result = backtest_bbmacd(df)\n",
        "    bbmacd_result_list.append(test_result)\n",
        "\n",
        "    bbmacd_result_df = pd.DataFrame(bbmacd_result_list)\n",
        "    bbmacd_result_df.columns = ['Ticker', 'No of Trade', 'Total PNL', 'Avg PNL/ Trade', 'Maximum Drawdown', 'Avg Holding Days', 'Win Rate %']\n",
        "  except: \n",
        "    test_result_null = bbmacd_result_list.append([df_name, 0, 0, 0, 0, 0, 0])\n",
        "    bbmacd_result_df = pd.DataFrame(bbmacd_result_list)\n",
        "    bbmacd_result_df.columns = ['Ticker', 'No of Trade', 'Total PNL', 'Avg PNL/ Trade', 'Maximum Drawdown', 'Avg Holding Days', 'Win Rate %']"
      ],
      "metadata": {
        "id": "VgbceDPUYLOZ"
      },
      "execution_count": 13,
      "outputs": []
    },
    {
      "cell_type": "code",
      "source": [
        "# PNL for Bollinger Bands + MACD Strategy\n",
        "\n",
        "measure_date = df_list[1].loc[1, 'Date']\n",
        "end_date = df_list[1].loc[df.index[-1], 'Date'] \n",
        "print('Trading Strategy: Bollinger Bands + MACD')\n",
        "print('Trade period:', (measure_date.strftime('%Y-%m-%d')), 'to', end_date.strftime('%Y-%m-%d'))\n",
        "ROI = ((bbmacd_result_df['Total PNL'].sum()/ initial_capital)*100).round(2)\n",
        "MDD = bbmacd_result_df['Maximum Drawdown'].mean().round(2)\n",
        "print('Total No of Trades Executed:', (bbmacd_result_df['No of Trade'].sum()))\n",
        "print('Total PNL: USD', bbmacd_result_df['Total PNL'].sum().round(2))\n",
        "print('Capital Deployed: USD', initial_capital)\n",
        "print('ROI: ', ROI, '%')\n",
        "print('Avg Win Rate: ', round(bbmacd_result_df[bbmacd_result_df['No of Trade'] > 0]['Win Rate %'].mean(),2), '%')\n",
        "bbmacd_result_df[bbmacd_result_df['No of Trade'] > 0].sort_values(by=['Total PNL', 'Avg PNL/ Trade'], ascending=False)\n"
      ],
      "metadata": {
        "colab": {
          "base_uri": "https://localhost:8080/",
          "height": 610
        },
        "id": "Df-Z_SDCYNbL",
        "outputId": "f02a13f5-e421-4fd4-c559-d280e4aae093"
      },
      "execution_count": 14,
      "outputs": [
        {
          "output_type": "stream",
          "name": "stdout",
          "text": [
            "Trading Strategy: Bollinger Bands + MACD\n",
            "Trade period: 2022-01-04 to 2022-12-27\n",
            "Total No of Trades Executed: 47\n",
            "Total PNL: USD 3287.8\n",
            "Capital Deployed: USD 7000\n",
            "ROI:  46.97 %\n",
            "Avg Win Rate:  82.86 %\n"
          ]
        },
        {
          "output_type": "execute_result",
          "data": {
            "text/plain": [
              "   Ticker  No of Trade  Total PNL  Avg PNL/ Trade  Maximum Drawdown  \\\n",
              "6    SOXL            4     468.80          117.20              0.00   \n",
              "7    SOXS            4     369.35           92.34              0.00   \n",
              "11   LABU            3     333.88          111.29              0.00   \n",
              "0    TQQQ            4     326.97           81.74             -8.69   \n",
              "5     TNA            4     324.46           81.11              0.00   \n",
              "2    SPXL            3     236.61           78.87              0.00   \n",
              "3    SPXS            3     232.48           77.49              0.00   \n",
              "4     TZA            2     213.86          106.93              0.00   \n",
              "9     FAZ            3     174.73           58.24            -29.50   \n",
              "12    EDZ            4     163.39           40.85             -4.76   \n",
              "10   LABD            3     151.58           50.53              0.00   \n",
              "13    EDC            5     146.85           29.37            -11.90   \n",
              "1    SQQQ            2      81.64           40.82            -33.10   \n",
              "8     FAS            3      63.20           21.07            -28.34   \n",
              "\n",
              "    Avg Holding Days  Win Rate %  \n",
              "6               4.75      100.00  \n",
              "7               4.25      100.00  \n",
              "11              5.00      100.00  \n",
              "0              10.50       75.00  \n",
              "5               9.00      100.00  \n",
              "2              15.67      100.00  \n",
              "3               5.00      100.00  \n",
              "4               3.50      100.00  \n",
              "9               4.33       66.67  \n",
              "12              9.25       75.00  \n",
              "10              3.00      100.00  \n",
              "13             14.20       60.00  \n",
              "1               3.50       50.00  \n",
              "8               6.67       33.33  "
            ],
            "text/html": [
              "\n",
              "  <div id=\"df-60657eca-d5e1-4705-9ed7-4eae508abb2d\">\n",
              "    <div class=\"colab-df-container\">\n",
              "      <div>\n",
              "<style scoped>\n",
              "    .dataframe tbody tr th:only-of-type {\n",
              "        vertical-align: middle;\n",
              "    }\n",
              "\n",
              "    .dataframe tbody tr th {\n",
              "        vertical-align: top;\n",
              "    }\n",
              "\n",
              "    .dataframe thead th {\n",
              "        text-align: right;\n",
              "    }\n",
              "</style>\n",
              "<table border=\"1\" class=\"dataframe\">\n",
              "  <thead>\n",
              "    <tr style=\"text-align: right;\">\n",
              "      <th></th>\n",
              "      <th>Ticker</th>\n",
              "      <th>No of Trade</th>\n",
              "      <th>Total PNL</th>\n",
              "      <th>Avg PNL/ Trade</th>\n",
              "      <th>Maximum Drawdown</th>\n",
              "      <th>Avg Holding Days</th>\n",
              "      <th>Win Rate %</th>\n",
              "    </tr>\n",
              "  </thead>\n",
              "  <tbody>\n",
              "    <tr>\n",
              "      <th>6</th>\n",
              "      <td>SOXL</td>\n",
              "      <td>4</td>\n",
              "      <td>468.80</td>\n",
              "      <td>117.20</td>\n",
              "      <td>0.00</td>\n",
              "      <td>4.75</td>\n",
              "      <td>100.00</td>\n",
              "    </tr>\n",
              "    <tr>\n",
              "      <th>7</th>\n",
              "      <td>SOXS</td>\n",
              "      <td>4</td>\n",
              "      <td>369.35</td>\n",
              "      <td>92.34</td>\n",
              "      <td>0.00</td>\n",
              "      <td>4.25</td>\n",
              "      <td>100.00</td>\n",
              "    </tr>\n",
              "    <tr>\n",
              "      <th>11</th>\n",
              "      <td>LABU</td>\n",
              "      <td>3</td>\n",
              "      <td>333.88</td>\n",
              "      <td>111.29</td>\n",
              "      <td>0.00</td>\n",
              "      <td>5.00</td>\n",
              "      <td>100.00</td>\n",
              "    </tr>\n",
              "    <tr>\n",
              "      <th>0</th>\n",
              "      <td>TQQQ</td>\n",
              "      <td>4</td>\n",
              "      <td>326.97</td>\n",
              "      <td>81.74</td>\n",
              "      <td>-8.69</td>\n",
              "      <td>10.50</td>\n",
              "      <td>75.00</td>\n",
              "    </tr>\n",
              "    <tr>\n",
              "      <th>5</th>\n",
              "      <td>TNA</td>\n",
              "      <td>4</td>\n",
              "      <td>324.46</td>\n",
              "      <td>81.11</td>\n",
              "      <td>0.00</td>\n",
              "      <td>9.00</td>\n",
              "      <td>100.00</td>\n",
              "    </tr>\n",
              "    <tr>\n",
              "      <th>2</th>\n",
              "      <td>SPXL</td>\n",
              "      <td>3</td>\n",
              "      <td>236.61</td>\n",
              "      <td>78.87</td>\n",
              "      <td>0.00</td>\n",
              "      <td>15.67</td>\n",
              "      <td>100.00</td>\n",
              "    </tr>\n",
              "    <tr>\n",
              "      <th>3</th>\n",
              "      <td>SPXS</td>\n",
              "      <td>3</td>\n",
              "      <td>232.48</td>\n",
              "      <td>77.49</td>\n",
              "      <td>0.00</td>\n",
              "      <td>5.00</td>\n",
              "      <td>100.00</td>\n",
              "    </tr>\n",
              "    <tr>\n",
              "      <th>4</th>\n",
              "      <td>TZA</td>\n",
              "      <td>2</td>\n",
              "      <td>213.86</td>\n",
              "      <td>106.93</td>\n",
              "      <td>0.00</td>\n",
              "      <td>3.50</td>\n",
              "      <td>100.00</td>\n",
              "    </tr>\n",
              "    <tr>\n",
              "      <th>9</th>\n",
              "      <td>FAZ</td>\n",
              "      <td>3</td>\n",
              "      <td>174.73</td>\n",
              "      <td>58.24</td>\n",
              "      <td>-29.50</td>\n",
              "      <td>4.33</td>\n",
              "      <td>66.67</td>\n",
              "    </tr>\n",
              "    <tr>\n",
              "      <th>12</th>\n",
              "      <td>EDZ</td>\n",
              "      <td>4</td>\n",
              "      <td>163.39</td>\n",
              "      <td>40.85</td>\n",
              "      <td>-4.76</td>\n",
              "      <td>9.25</td>\n",
              "      <td>75.00</td>\n",
              "    </tr>\n",
              "    <tr>\n",
              "      <th>10</th>\n",
              "      <td>LABD</td>\n",
              "      <td>3</td>\n",
              "      <td>151.58</td>\n",
              "      <td>50.53</td>\n",
              "      <td>0.00</td>\n",
              "      <td>3.00</td>\n",
              "      <td>100.00</td>\n",
              "    </tr>\n",
              "    <tr>\n",
              "      <th>13</th>\n",
              "      <td>EDC</td>\n",
              "      <td>5</td>\n",
              "      <td>146.85</td>\n",
              "      <td>29.37</td>\n",
              "      <td>-11.90</td>\n",
              "      <td>14.20</td>\n",
              "      <td>60.00</td>\n",
              "    </tr>\n",
              "    <tr>\n",
              "      <th>1</th>\n",
              "      <td>SQQQ</td>\n",
              "      <td>2</td>\n",
              "      <td>81.64</td>\n",
              "      <td>40.82</td>\n",
              "      <td>-33.10</td>\n",
              "      <td>3.50</td>\n",
              "      <td>50.00</td>\n",
              "    </tr>\n",
              "    <tr>\n",
              "      <th>8</th>\n",
              "      <td>FAS</td>\n",
              "      <td>3</td>\n",
              "      <td>63.20</td>\n",
              "      <td>21.07</td>\n",
              "      <td>-28.34</td>\n",
              "      <td>6.67</td>\n",
              "      <td>33.33</td>\n",
              "    </tr>\n",
              "  </tbody>\n",
              "</table>\n",
              "</div>\n",
              "      <button class=\"colab-df-convert\" onclick=\"convertToInteractive('df-60657eca-d5e1-4705-9ed7-4eae508abb2d')\"\n",
              "              title=\"Convert this dataframe to an interactive table.\"\n",
              "              style=\"display:none;\">\n",
              "        \n",
              "  <svg xmlns=\"http://www.w3.org/2000/svg\" height=\"24px\"viewBox=\"0 0 24 24\"\n",
              "       width=\"24px\">\n",
              "    <path d=\"M0 0h24v24H0V0z\" fill=\"none\"/>\n",
              "    <path d=\"M18.56 5.44l.94 2.06.94-2.06 2.06-.94-2.06-.94-.94-2.06-.94 2.06-2.06.94zm-11 1L8.5 8.5l.94-2.06 2.06-.94-2.06-.94L8.5 2.5l-.94 2.06-2.06.94zm10 10l.94 2.06.94-2.06 2.06-.94-2.06-.94-.94-2.06-.94 2.06-2.06.94z\"/><path d=\"M17.41 7.96l-1.37-1.37c-.4-.4-.92-.59-1.43-.59-.52 0-1.04.2-1.43.59L10.3 9.45l-7.72 7.72c-.78.78-.78 2.05 0 2.83L4 21.41c.39.39.9.59 1.41.59.51 0 1.02-.2 1.41-.59l7.78-7.78 2.81-2.81c.8-.78.8-2.07 0-2.86zM5.41 20L4 18.59l7.72-7.72 1.47 1.35L5.41 20z\"/>\n",
              "  </svg>\n",
              "      </button>\n",
              "      \n",
              "  <style>\n",
              "    .colab-df-container {\n",
              "      display:flex;\n",
              "      flex-wrap:wrap;\n",
              "      gap: 12px;\n",
              "    }\n",
              "\n",
              "    .colab-df-convert {\n",
              "      background-color: #E8F0FE;\n",
              "      border: none;\n",
              "      border-radius: 50%;\n",
              "      cursor: pointer;\n",
              "      display: none;\n",
              "      fill: #1967D2;\n",
              "      height: 32px;\n",
              "      padding: 0 0 0 0;\n",
              "      width: 32px;\n",
              "    }\n",
              "\n",
              "    .colab-df-convert:hover {\n",
              "      background-color: #E2EBFA;\n",
              "      box-shadow: 0px 1px 2px rgba(60, 64, 67, 0.3), 0px 1px 3px 1px rgba(60, 64, 67, 0.15);\n",
              "      fill: #174EA6;\n",
              "    }\n",
              "\n",
              "    [theme=dark] .colab-df-convert {\n",
              "      background-color: #3B4455;\n",
              "      fill: #D2E3FC;\n",
              "    }\n",
              "\n",
              "    [theme=dark] .colab-df-convert:hover {\n",
              "      background-color: #434B5C;\n",
              "      box-shadow: 0px 1px 3px 1px rgba(0, 0, 0, 0.15);\n",
              "      filter: drop-shadow(0px 1px 2px rgba(0, 0, 0, 0.3));\n",
              "      fill: #FFFFFF;\n",
              "    }\n",
              "  </style>\n",
              "\n",
              "      <script>\n",
              "        const buttonEl =\n",
              "          document.querySelector('#df-60657eca-d5e1-4705-9ed7-4eae508abb2d button.colab-df-convert');\n",
              "        buttonEl.style.display =\n",
              "          google.colab.kernel.accessAllowed ? 'block' : 'none';\n",
              "\n",
              "        async function convertToInteractive(key) {\n",
              "          const element = document.querySelector('#df-60657eca-d5e1-4705-9ed7-4eae508abb2d');\n",
              "          const dataTable =\n",
              "            await google.colab.kernel.invokeFunction('convertToInteractive',\n",
              "                                                     [key], {});\n",
              "          if (!dataTable) return;\n",
              "\n",
              "          const docLinkHtml = 'Like what you see? Visit the ' +\n",
              "            '<a target=\"_blank\" href=https://colab.research.google.com/notebooks/data_table.ipynb>data table notebook</a>'\n",
              "            + ' to learn more about interactive tables.';\n",
              "          element.innerHTML = '';\n",
              "          dataTable['output_type'] = 'display_data';\n",
              "          await google.colab.output.renderOutput(dataTable, element);\n",
              "          const docLink = document.createElement('div');\n",
              "          docLink.innerHTML = docLinkHtml;\n",
              "          element.appendChild(docLink);\n",
              "        }\n",
              "      </script>\n",
              "    </div>\n",
              "  </div>\n",
              "  "
            ]
          },
          "metadata": {},
          "execution_count": 14
        }
      ]
    },
    {
      "cell_type": "markdown",
      "source": [
        "**4) Other EDA Indicators**"
      ],
      "metadata": {
        "id": "mZOENefIEFi3"
      }
    },
    {
      "cell_type": "code",
      "source": [
        "# Extracting only close price from various dataframes\n",
        "start = df_list[0].loc[1, 'Date']\n",
        "end = df_list[0].loc[df.index[-1], 'Date'] \n",
        "\n",
        "df_close_price = []\n",
        "df_close_price.append(df_list[0]['Date'].to_list())\n",
        "bench_list = ['DX-Y.NYB', '^TNX']\n",
        "\n",
        "for close_price in df_list:\n",
        "  price = close_price['Close'].to_list()\n",
        "  df_close_price.append(price)\n",
        "\n",
        "for ticker in bench_list:\n",
        "  bench_close = yf.download(ticker, start=start, end=end, interval=interval, auto_adjust=True, back_adjust=True, progress=False)['Close']\n",
        "  df_close_price.append(bench_close)\n",
        "\n",
        "# putting everything to a dataframe, adding the column headers\n",
        "all_df = pd.DataFrame(df_close_price).T\n",
        "all_df.columns = ['Date', 'TQQQ', 'SQQQ', 'SPXL', 'SPXS', 'TZA', 'TNA', 'SOXL', 'SOXS', 'FAS', 'FAZ', 'LABD', 'LABU', 'EDZ', 'EDC', 'USD Index', '10-yr T.Note']\n",
        "\n",
        "# changing dataframe from object to numeric for plotting heatmap\n",
        "for col in all_df.columns[1:]:\n",
        "    all_df[col] = pd.to_numeric(all_df[col], errors='coerce')\n"
      ],
      "metadata": {
        "id": "ZkCmAcDqoJer"
      },
      "execution_count": 15,
      "outputs": []
    },
    {
      "cell_type": "code",
      "source": [
        "plt.figure(figsize=(20,6))\n",
        "plt.title('Heatmap for 3x Leveraged ETF and Benchmarking Index')\n",
        "#mask = np.triu(np.ones_like(all_df.corr())) #--> add syntax mask=mask to produce diagonal heatmap\n",
        "sns.heatmap(all_df.corr(), annot = True, vmin=-1, vmax=1, center=0, cmap='coolwarm') #--> mask=mask to create diagonal heatmap"
      ],
      "metadata": {
        "colab": {
          "base_uri": "https://localhost:8080/",
          "height": 458
        },
        "id": "z74nMASkt0o2",
        "outputId": "d08f35e4-3a6b-470c-92ca-c2cca50a08fb"
      },
      "execution_count": 16,
      "outputs": [
        {
          "output_type": "execute_result",
          "data": {
            "text/plain": [
              "<matplotlib.axes._subplots.AxesSubplot at 0x7fa4823bb4c0>"
            ]
          },
          "metadata": {},
          "execution_count": 16
        },
        {
          "output_type": "display_data",
          "data": {
            "text/plain": [
              "<Figure size 1440x432 with 2 Axes>"
            ],
            "image/png": "[encoded data removed]"
          },
          "metadata": {
            "needs_background": "light"
          }
        }
      ]
    },
    {
      "cell_type": "markdown",
      "source": [
        "**5) Calculating the Sharpe Ratio**"
      ],
      "metadata": {
        "id": "aB6y1ra4Uomh"
      }
    },
    {
      "cell_type": "code",
      "source": [
        "all_df = all_df.drop(['USD Index', '10-yr T.Note'], axis=1)\n",
        "all_df = all_df.set_index('Date')\n",
        "all_df_pct = all_df.pct_change()\n",
        "all_df_pct = all_df_pct.dropna()"
      ],
      "metadata": {
        "id": "nzLHQEhZZg59"
      },
      "execution_count": 17,
      "outputs": []
    },
    {
      "cell_type": "code",
      "source": [
        "buylist = ticker_list\n",
        "weight = np.array([0.07142,0.07142,0.07142,0.07142,0.07142,0.07142,0.07142,0.07142,0.07142,0.07142,0.07142,0.07142,0.07142,0.07142])"
      ],
      "metadata": {
        "id": "HoOHLiQCbCx3"
      },
      "execution_count": 18,
      "outputs": []
    },
    {
      "cell_type": "code",
      "source": [
        "#calculating portfolio variance basd on stock buy list\n",
        "cov_matrix_annual = all_df_pct.cov()*253 #--> aveage nasdaq trading days\n",
        "portfolio_variance = np.dot(weight.T, np.dot(cov_matrix_annual, weight))\n",
        "print('Portfolio variance:', portfolio_variance.round(6))"
      ],
      "metadata": {
        "colab": {
          "base_uri": "https://localhost:8080/"
        },
        "id": "cG6cFMBUbxVP",
        "outputId": "42f5ff5f-da59-4225-de70-3a339b178949"
      },
      "execution_count": 20,
      "outputs": [
        {
          "output_type": "stream",
          "name": "stdout",
          "text": [
            "Portfolio variance: 5.7e-05\n"
          ]
        }
      ]
    },
    {
      "cell_type": "code",
      "source": [
        "#calculating portfolio volatility\n",
        "\n",
        "avg_price = all_df[0].mean()\n"
      ],
      "metadata": {
        "id": "pT0KSwtXPnb8"
      },
      "execution_count": null,
      "outputs": []
    },
    {
      "cell_type": "code",
      "source": [
        "#calculating portfolio volatility\n",
        "portfolio_volatility = np.sqrt(portfolio_variance)\n",
        "print('Portfolio volatility:', portfolio_volatility.round(4))"
      ],
      "metadata": {
        "colab": {
          "base_uri": "https://localhost:8080/"
        },
        "id": "IwAROM0fcJnJ",
        "outputId": "fe8df448-99f4-43c9-80f1-9e43e3db755e"
      },
      "execution_count": 21,
      "outputs": [
        {
          "output_type": "stream",
          "name": "stdout",
          "text": [
            "Portfolio volatility: 0.0076\n"
          ]
        }
      ]
    },
    {
      "cell_type": "code",
      "source": [
        "sharpe_ratio = objective_functions.sharpe_ratio(weight, mu, cov_matrix_annual, risk_free_rate=0.02, negative=True)\n",
        "print('Sharpe ratio:', sharpe_ratio)"
      ],
      "metadata": {
        "colab": {
          "base_uri": "https://localhost:8080/"
        },
        "id": "_JxHe9Rr0P39",
        "outputId": "ddffcda7-7c11-4d01-827c-2b5559d548c2"
      },
      "execution_count": 24,
      "outputs": [
        {
          "output_type": "stream",
          "name": "stdout",
          "text": [
            "Sharpe ratio: -25.5116284351308\n"
          ]
        }
      ]
    },
    {
      "cell_type": "code",
      "source": [
        "mu = expected_returns.ema_historical_return(all_df) \n",
        "s = risk_models.sample_cov(all_df)\n",
        "ef = EfficientFrontier(mu, s)\n",
        "weight_ef = ef.max_sharpe()\n",
        "clean_weights = ef.clean_weights()\n",
        "clean_weights"
      ],
      "metadata": {
        "colab": {
          "base_uri": "https://localhost:8080/"
        },
        "id": "Tt-tCMe-cNtT",
        "outputId": "f7bf256f-e684-46c6-95a9-f404896f7a82"
      },
      "execution_count": 23,
      "outputs": [
        {
          "output_type": "execute_result",
          "data": {
            "text/plain": [
              "OrderedDict([('TQQQ', 0.25317),\n",
              "             ('SQQQ', 0.2571),\n",
              "             ('SPXL', 0.07567),\n",
              "             ('SPXS', 0.07241),\n",
              "             ('TZA', 0.11744),\n",
              "             ('TNA', 0.11547),\n",
              "             ('SOXL', 0.0223),\n",
              "             ('SOXS', 0.02111),\n",
              "             ('FAS', 0.00144),\n",
              "             ('FAZ', 0.0),\n",
              "             ('LABD', 0.01253),\n",
              "             ('LABU', 0.01372),\n",
              "             ('EDZ', 0.01886),\n",
              "             ('EDC', 0.01879)])"
            ]
          },
          "metadata": {},
          "execution_count": 23
        }
      ]
    },
    {
      "cell_type": "code",
      "source": [
        "ef.portfolio_performance(verbose=True)"
      ],
      "metadata": {
        "id": "St7OYH1dcuIN"
      },
      "execution_count": null,
      "outputs": []
    },
    {
      "cell_type": "markdown",
      "source": [
        "Downloading the Full Transaction List\n"
      ],
      "metadata": {
        "id": "Engs7HbdCQ97"
      }
    },
    {
      "cell_type": "code",
      "source": [
        "full_trade = pd.DataFrame(bb_macd_tradelist)\n",
        "full_trade.columns = ['Transaction Date', 'Ticker', 'Trade Opened', 'Unit Price', 'Lot Size', 'Equity Value', 'PNL', 'Holding Period']"
      ],
      "metadata": {
        "id": "wlR_dejOtZXl"
      },
      "execution_count": null,
      "outputs": []
    },
    {
      "cell_type": "code",
      "source": [
        "cash_consumed = full_trade[full_trade['Trade Opened'] == True].groupby('Transaction Date')['Equity Value'].agg('sum')\n",
        "cash_consumed.plot(figsize=(10,4), title='Cash/ Account Draw down - 7k Total')"
      ],
      "metadata": {
        "id": "yZPryQO-_re0"
      },
      "execution_count": null,
      "outputs": []
    },
    {
      "cell_type": "code",
      "source": [
        "cum_profit = full_trade[full_trade['Trade Opened'] == False].groupby('Transaction Date')['PNL'].agg('sum')\n",
        "cum_profit.plot(figsize=(10,4), title='Cumulative Profit')"
      ],
      "metadata": {
        "id": "AeLRmPRsyXjt"
      },
      "execution_count": null,
      "outputs": []
    },
    {
      "cell_type": "code",
      "source": [
        "# export to csv\n",
        "full_trade.to_csv('full_trade2012to2022.csv')"
      ],
      "metadata": {
        "id": "izAkQgUHvU6B"
      },
      "execution_count": null,
      "outputs": []
    }
  ]
}