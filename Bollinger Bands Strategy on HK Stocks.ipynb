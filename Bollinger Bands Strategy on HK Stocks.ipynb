{
  "nbformat": 4,
  "nbformat_minor": 0,
  "metadata": {
    "colab": {
      "provenance": [],
      "authorship_tag": "ABX9TyMffeQmet4l9w4oZjMj9D0b"
    },
    "kernelspec": {
      "name": "python3",
      "display_name": "Python 3"
    },
    "language_info": {
      "name": "python"
    }
  },
  "cells": [
    {
      "cell_type": "markdown",
      "source": [
        "**Bollinger Bands Trading Strategy Optimization, with specific Hang Sang Index Stocks </br>**"
      ],
      "metadata": {
        "id": "oA0mdoI8gWze"
      }
    },
    {
      "cell_type": "code",
      "execution_count": 10,
      "metadata": {
        "id": "EVyrqMpxhlQF",
        "cellView": "form"
      },
      "outputs": [],
      "source": [
        "#@title Install and Import packages\n",
        "#!pip install yfinance --upgrade\n",
        "#!pip install talib-binary\n",
        "#!wget http://prdownloads.sourceforge.net/ta-lib/ta-lib-0.4.0-src.tar.gz\n",
        "#!tar -xzvf ta-lib-0.4.0-src.tar.gz\n",
        "#%cd ta-lib\n",
        "#!./configure --prefix=/usr\n",
        "#!make\n",
        "#!make install\n",
        "#!pip install Ta-Lib\n",
        "#!pip install hkfdb"
      ]
    },
    {
      "cell_type": "code",
      "source": [
        "import os\n",
        "import sys\n",
        "import copy\n",
        "from datetime import datetime, timedelta\n",
        "import time\n",
        "import itertools\n",
        "\n",
        "import pandas as pd\n",
        "import pandas_datareader as pdr\n",
        "import numpy as np\n",
        "\n",
        "import seaborn as sns\n",
        "import matplotlib.pyplot as plt\n",
        "\n",
        "import hkfdb\n",
        "import yfinance as yf\n",
        "import talib as ta\n",
        "from talib import MA_Type"
      ],
      "metadata": {
        "id": "y9cjxnxehuL8"
      },
      "execution_count": 11,
      "outputs": []
    },
    {
      "cell_type": "markdown",
      "source": [
        "## **1) Defining Data Folder Structures & Parameters** "
      ],
      "metadata": {
        "id": "-YG9kFEXU31c"
      }
    },
    {
      "cell_type": "code",
      "source": [
        "from google.colab import drive\n",
        "drive.mount('/content/drive')"
      ],
      "metadata": {
        "colab": {
          "base_uri": "https://localhost:8080/"
        },
        "id": "V3bSKfhVS9e6",
        "outputId": "7fd5a812-fcec-4c86-a0f0-498ab4eff6b2"
      },
      "execution_count": 21,
      "outputs": [
        {
          "output_type": "stream",
          "name": "stdout",
          "text": [
            "Mounted at /content/drive\n"
          ]
        }
      ]
    },
    {
      "cell_type": "code",
      "source": [
        "#data folder structures\n",
        "data_folder = '/content/drive/MyDrive/Colab Notebooks/Algorithmic trading/data'\n",
        "backtest_output_folder = '/content/drive/MyDrive/Colab Notebooks/Algorithmic trading/backtest_output'"
      ],
      "metadata": {
        "id": "M3T29qSjTBHn"
      },
      "execution_count": 22,
      "outputs": []
    },
    {
      "cell_type": "markdown",
      "source": [
        "**2) EDA with HKFDB**"
      ],
      "metadata": {
        "id": "8uIbaV6BwwoN"
      }
    },
    {
      "cell_type": "code",
      "source": [
        "#@title _hkfdb client\n",
        "client = hkfdb.Database('94553819')"
      ],
      "metadata": {
        "cellView": "form",
        "id": "c5Bh3x9tw6Hs"
      },
      "execution_count": 13,
      "outputs": []
    },
    {
      "cell_type": "code",
      "source": [
        "#retrieve all HK stock info, save to google drive\n",
        "hkstock_db = client.get_basic_hk_stock_info()\n",
        "\n",
        "# export to CSV file, retaining Chinese language and removing index\n",
        "#hkstock_db.to_csv('hkstock_db.csv',encoding='utf-8-sig', index=False)\n",
        "\n",
        "# use stored version of the hkfdb database\n",
        "#path = '/content/drive/MyDrive/Colab Notebooks/Algorithmic trading/hkstock_db.csv'\n",
        "#hkstock_db = pd.read_csv(path, encoding='utf-8-sig')\n",
        "\n",
        "hkstock_lotsize = hkstock_db[['code', 'lot_size']] \n",
        "hkstock_lotsize_dict = copy.deepcopy(hkstock_lotsize.set_index('code')['lot_size'].to_dict())"
      ],
      "metadata": {
        "id": "8LfE4QjLAZUZ"
      },
      "execution_count": 27,
      "outputs": []
    },
    {
      "cell_type": "code",
      "source": [
        "# Top 30 stocks by turnover\n",
        "mid20_vol = hkstock_db.sort_values(by='turnover', ascending=False).iloc[10:30]\n",
        "mid20_vol_list = top30_vol['code'].to_list()"
      ],
      "metadata": {
        "id": "bqlENfsu0ap8"
      },
      "execution_count": 40,
      "outputs": []
    },
    {
      "cell_type": "code",
      "source": [
        "# pair inverse trade stocks\n",
        "ticker_list = mid20_vol_list\n",
        "\n",
        "# define date range - yfinance format\n",
        "start_date = '2021-03-20'\n",
        "end_date = '2022-12-31'\n",
        "interval = '1d'\n",
        "\n",
        "# define date range - hkfdb format\n",
        "start_date_hkfdb = 20210101\n",
        "end_date_hkfdb = 20211231\n",
        "interval_hkfdb = '1D'\n",
        "\n",
        "# initial capital in HKD\n",
        "initial_capital = 600000\n",
        "\n",
        "# position sizing\n",
        "pos_size = round(initial_capital/len(ticker_list),2)"
      ],
      "metadata": {
        "id": "Eho-OZ5STDpT"
      },
      "execution_count": 41,
      "outputs": []
    },
    {
      "cell_type": "markdown",
      "source": [
        "**2) Getting OHLC Data from Yahoo Finance** </b>\n",
        "\n",
        "\n",
        "*   Get stock data based on ticker list from Yahoo Finance\n",
        "*   Create each stock data as different dataframe\n",
        "*   Add Technical Analysis indicators from TA-Lib\n",
        "*   Pointing working directory to data folder, export dach dataframe as independent csv file \n",
        "\n",
        "\n",
        "\n"
      ],
      "metadata": {
        "id": "k0P5DZbhVtYv"
      }
    },
    {
      "cell_type": "code",
      "source": [
        "hkstock_lotsize = hkstock_db[['code', 'lot_size']] \n",
        "hkstock_lotsize_dict = hkstock_lotsize.set_index('code')['lot_size'].to_dict()"
      ],
      "metadata": {
        "id": "H8uQzAGfzlmF"
      },
      "execution_count": 17,
      "outputs": []
    },
    {
      "cell_type": "code",
      "source": [
        "# changing working directory to data folder's path\n",
        "data_folder = '/content/drive/MyDrive/Colab Notebooks/Algorithmic trading/data'\n",
        "os.chdir(data_folder)\n",
        "\n",
        "# getting OHLC data from yfinance package, if auto_adjust=True, OHLC data will not have adj close column, use progress=False to get rid of comments\n",
        "# Other indicators: 14 day RSI\n",
        "for ticker in ticker_list:\n",
        "  try:\n",
        "\n",
        "    #getting data from y-finance\n",
        "    #hk_ticker = 'HK' + ticker[0:4]\n",
        "    #globals()[hk_ticker] = pd.DataFrame\n",
        "    #globals()[hk_ticker] = yf.download(ticker, start=start_date, end=end_date, interval=interval, auto_adjust=True, back_adjust=True, progress=False)\n",
        "    \n",
        "    #getting data from hkfdb\n",
        "    hk_ticker = 'HK' + ticker[1:]\n",
        "    globals()[hk_ticker] = pd.DataFrame\n",
        "    globals()[hk_ticker] = client.get_hk_stock_ohlc(ticker, start_date_hkfdb, end_date_hkfdb, interval_hkfdb, price_adj=True, vol_adj=True)\n",
        "\n",
        "    # clean-up import from hkfdb\n",
        "    globals()[hk_ticker] = globals()[hk_ticker].drop(['date', 'time'], axis=1)\n",
        "    globals()[hk_ticker] = globals()[hk_ticker].reset_index()\n",
        "    globals()[hk_ticker].columns = ['Date', 'Open', 'High', 'Low', 'Close', 'Volume']\n",
        "\n",
        "    # adding technical indicators to the dataframe\n",
        "    globals()[hk_ticker]['200EMA'] = ta.EMA(globals()[hk_ticker]['Close'], timeperiod=200) \n",
        "    globals()[hk_ticker]['ATR'] = ta.ATR(globals()[hk_ticker]['High'], globals()[hk_ticker]['Low'], globals()[hk_ticker]['Close'], timeperiod=14)\n",
        "    globals()[hk_ticker]['RSI_14'] = ta.RSI(globals()[hk_ticker]['Close'], timeperiod=14)\n",
        "    globals()[hk_ticker]['MACD'], globals()[hk_ticker]['MACD_signal'], globals()[hk_ticker]['MACD_hist'] = ta.MACD(globals()[hk_ticker]['Close'], fastperiod=12, slowperiod=26, signalperiod=9)\n",
        "    globals()[hk_ticker]['ADX'] = ta.ADX(globals()[hk_ticker]['High'], globals()[hk_ticker]['Open'], globals()[hk_ticker]['Close'], 14)\n",
        "    globals()[hk_ticker]['MFI'] = ta.MFI(globals()[hk_ticker]['High'], globals()[hk_ticker]['Low'], globals()[hk_ticker]['Close'], globals()[hk_ticker]['Volume'], 14)\n",
        "    globals()[hk_ticker]['WILL%R'] = ta.WILLR(globals()[hk_ticker]['High'], globals()[hk_ticker]['Low'], globals()[hk_ticker]['Close'], timeperiod=14)\n",
        "    globals()[hk_ticker]['BBand_U'], globals()[hk_ticker]['BBand_M'], globals()[hk_ticker]['BBand_L'] = ta.BBANDS(globals()[hk_ticker]['Close']) # if add exponential smoothing, matype=MA_Type.T3\n",
        "\n",
        "    # add/drop columns and clean up - yfinance/ generic\n",
        "    globals()[hk_ticker] = globals()[hk_ticker].dropna()\n",
        "    #globals()[hk_ticker] = globals()[hk_ticker].reset_index()\n",
        "    globals()[hk_ticker][['Position', 'Win Count']] = 0\n",
        "    globals()[hk_ticker][['Lot Size', 'Equity Value', 'MDD_dollar', 'PNL', 'Holding Period']] = np.NAN\n",
        "    \n",
        "    #writing each ticker dataframe into separate .csv files, save to google drive\n",
        "    #globals()[ticker].to_csv(ticker+'.csv', index=False, header=True)\n",
        "  except:\n",
        "    print(globals()[ticker])"
      ],
      "metadata": {
        "id": "w0ufwWa9Vrwd"
      },
      "execution_count": null,
      "outputs": []
    },
    {
      "cell_type": "markdown",
      "source": [
        "**Other Optional Indicators:** </b>\n",
        "\n",
        "**MACD_hist** - globals()[ticker]['MACD'], globals()[ticker]['MACD_signal'], globals()[ticker]['MACD_hist'] = ta.MACD(globals()[ticker]['Close'], fastperiod=12, slowperiod=26, signalperiod=9) </b>\n",
        "\n",
        "**ADX** - globals()[ticker]['ADX'] = ta.ADX(globals()[ticker]['High'], globals()[ticker]['Open'], globals()[ticker]['Close'], 14) </b>\n",
        "\n",
        "\n",
        "**ADXR** - globals()[ticker]['ADXR'] = ta.ADXR(globals()[ticker]['High'], globals()[ticker]['Open'], globals()[ticker]['Close'], 14) </b>\n",
        "\n",
        "**50 Day Exponential Moving Average** - globals()[ticker]['50EMA'] = ta.EMA(globals()[ticker]['Close'], timeperiod=50) </b>\n",
        "\n",
        "**Bollinger Bands** - globals()[ticker]['BBand_U'], globals()[ticker]['BBand_M'], globals()[ticker]['BBand_L'] = ta.BBANDS(globals()[ticker]['Close']) # if add exponential smoothing, matype=MA_Type.T3\n",
        "\n",
        "**Stochastic Indicators** - globals()[ticker]['Stoch_slowk'], globals()[ticker]['Stoch_slowd'] = ta.STOCH(globals()[ticker]['High'], globals()[ticker]['Low'], globals()[ticker]['Close'],                                                              fastk_period=21, slowk_period=5, slowk_matype=0, slowd_period=5, slowd_matype=0)    "
      ],
      "metadata": {
        "id": "ZAp_OPnEV41R"
      }
    },
    {
      "cell_type": "markdown",
      "source": [
        "**3) Building the DataFrame List, Perform Backtesting**"
      ],
      "metadata": {
        "id": "tNzavMxuXk-H"
      }
    },
    {
      "cell_type": "code",
      "source": [
        "#manipulate ticker list\n",
        "new_ticker_list = []\n",
        "for ticker in ticker_list:\n",
        "  new_ticker = 'HK' + ticker[1:]\n",
        "  new_ticker_list.append(new_ticker)"
      ],
      "metadata": {
        "id": "qqSGBtwtp_7R"
      },
      "execution_count": 36,
      "outputs": []
    },
    {
      "cell_type": "code",
      "source": [
        "new_ticker_list"
      ],
      "metadata": {
        "colab": {
          "base_uri": "https://localhost:8080/"
        },
        "id": "7-aQRoLKf55O",
        "outputId": "7516a144-d5de-48b2-d445-c255f7ffdca1"
      },
      "execution_count": 46,
      "outputs": [
        {
          "output_type": "execute_result",
          "data": {
            "text/plain": [
              "['HK0700',\n",
              " 'HK3690',\n",
              " 'HK9988',\n",
              " 'HK2800',\n",
              " 'HK2828',\n",
              " 'HK2318',\n",
              " 'HK2269',\n",
              " 'HK1299',\n",
              " 'HK1024',\n",
              " 'HK0939',\n",
              " 'HK3968',\n",
              " 'HK0941',\n",
              " 'HK9618',\n",
              " 'HK0388',\n",
              " 'HK1211',\n",
              " 'HK1877',\n",
              " 'HK2628',\n",
              " 'HK1398',\n",
              " 'HK2015',\n",
              " 'HK9999',\n",
              " 'HK3033',\n",
              " 'HK1928',\n",
              " 'HK3988',\n",
              " 'HK0175',\n",
              " 'HK1093',\n",
              " 'HK2331',\n",
              " 'HK0883',\n",
              " 'HK1810',\n",
              " 'HK1177',\n",
              " 'HK6098']"
            ]
          },
          "metadata": {},
          "execution_count": 46
        }
      ]
    },
    {
      "cell_type": "code",
      "source": [
        "# list of dataframes to be iterated after yfinance data pull \n",
        "df_list = [HK0700, HK3690, HK9988, HK2800, HK2828, HK2318, HK2269, HK1299, HK1024, HK0939, HK3968, HK0941, HK9618, HK0388, HK1211, HK1877, HK2628, HK1398, HK2015, HK9999, HK3033, HK1928, HK3988, HK0175, HK1093, HK2331, HK0883, HK1810, HK1177]"
      ],
      "metadata": {
        "id": "uiD13LcIV4Xw"
      },
      "execution_count": 47,
      "outputs": []
    },
    {
      "cell_type": "code",
      "source": [
        "# function to extract dataframe name\n",
        "def get_df_name(df):\n",
        "   name =[x for x in globals() if globals()[x] is df][0]\n",
        "   return name"
      ],
      "metadata": {
        "id": "VNJz7O-ZXo53"
      },
      "execution_count": 48,
      "outputs": []
    },
    {
      "cell_type": "code",
      "source": [
        "# function to print function name as a string\n",
        "def get_func_name(func_name):\n",
        "    func_name = sys._getframe().f_code.co_name\n",
        "    return func_name"
      ],
      "metadata": {
        "id": "q9CDV6LeXpRx"
      },
      "execution_count": 49,
      "outputs": []
    },
    {
      "cell_type": "markdown",
      "source": [
        "**MACD Bollinger Bands Strategy**\n",
        "\n",
        "*   Entry Rule: Open Price < Lower Bollinger Band, MACD > MACD signal line > 0\n",
        "*   Exit Rule: Hit profit target/ stop loss/ last day of trade, MACD < signal line\n",
        "\n"
      ],
      "metadata": {
        "id": "30b0hu0UlP1F"
      }
    },
    {
      "cell_type": "code",
      "source": [
        "# defining the global list for storing trade list output\n",
        "global bb_macd_tradelist\n",
        "bb_macd_tradelist = []\n",
        "\n",
        "pos_size = round(initial_capital/len(ticker_list),2)"
      ],
      "metadata": {
        "id": "mSu1XgfXkBjx"
      },
      "execution_count": 50,
      "outputs": []
    },
    {
      "cell_type": "code",
      "source": [
        "# defining a backtest function based on trading rules, capture all transactions\n",
        "\n",
        "def backtest_bbmacd(df):\n",
        "  df_name = get_df_name(df)\n",
        "\n",
        "  pos_opened = False\n",
        "  open_price  = 0\n",
        "  close_price = 0\n",
        "  lot_size = 0\n",
        "\n",
        "  initial_equity_value = 0\n",
        "  win_counter = 0\n",
        "  open_trade_date = 0\n",
        "  holding_days = 0\n",
        "\n",
        "  pnl = 0\n",
        "  pnl_list = []\n",
        "    \n",
        "  for i in range(len(df)):\n",
        "    now_date        = df.loc[i, 'Date']\n",
        "    now_open        = df.loc[i, 'Open']\n",
        "    now_close       = df.loc[i, 'Close']\n",
        "    now_200EMA      = df.loc[i, '200EMA']\n",
        "    now_rsi_14      = df.loc[i, 'RSI_14']\n",
        "    now_MACD        = df.loc[i, 'MACD']\n",
        "    now_MACD_signal = df.loc[i, 'MACD_signal']\n",
        "    now_MACD_hist   = df.loc[i, 'MACD_hist']\n",
        "    now_bband_u     = df.loc[i, 'BBand_U']\n",
        "    now_bband_m     = df.loc[i, 'BBand_M']\n",
        "    now_bband_l     = df.loc[i, 'BBand_L']\n",
        "    now_position    = df.loc[i, 'Position']\n",
        "    now_equity_val  = df.loc[i, 'Equity Value']\n",
        "    now_mdd_dollar  = df.loc[i, 'MDD_dollar']\n",
        "    now_win_count   = df.loc[i, 'Win Count']\n",
        "\n",
        "    # opening a position\n",
        "    if (pos_opened == False and (now_open < now_bband_l and now_MACD > now_MACD_signal and now_MACD_hist > 0)):\n",
        "      pos_opened = True\n",
        "      open_trade_date = now_date\n",
        "      open_price = now_open\n",
        "      lot_size = pos_size// open_price\n",
        "      buy_commission = (0.0049 + 0.005) * lot_size\n",
        "      initial_equity_value = round(((lot_size * open_price) - buy_commission),2)\n",
        "      df.at[i, 'Position'] = 1\n",
        "      df.at[i, 'Lot Size'] = lot_size\n",
        "      df.at[i, 'Equity Value'] = initial_equity_value\n",
        "      bb_macd_tradelist.append([now_date, df_name, pos_opened, open_price, lot_size, initial_equity_value])\n",
        "\n",
        "    # closing a position - by MACD signal, or last day of trading or hit stop loss\n",
        "    elif (pos_opened == True and ((now_MACD < now_MACD_signal) or \\\n",
        "                                  (lot_size * now_open > initial_equity_value * 1.2) or (lot_size * now_open < initial_equity_value * 0.95) or \\\n",
        "                                  (now_date == df.loc[(len(df)-1), 'Date']))):\n",
        "      pos_opened = False\n",
        "      close_price = now_open\n",
        "      sell_commission = (0.04 * lot_size) + (close_price * lot_size * 0.0000229)\n",
        "      df.at[i, 'Position'] = 2\n",
        "      df.at[i, 'Lot Size'] = lot_size\n",
        "      df.at[i, 'Equity Value'] = (close_price * lot_size)\n",
        "      if (now_open * lot_size) < initial_equity_value:\n",
        "        df.loc[i, 'MDD_dollar']   = -(initial_equity_value - (now_open * lot_size))\n",
        "      else:\n",
        "        df.loc[i, 'MDD_dollar']   = 0\n",
        "      holding_days = now_date - open_trade_date\n",
        "      df.at[i, 'Holding Period'] = holding_days.days\n",
        "      \n",
        "      pnl = round(((close_price * lot_size) - sell_commission) - initial_equity_value,2)\n",
        "      df.at[i, 'PNL'] = pnl.round(2)\n",
        "      if pnl > 0:\n",
        "        df.at[i, 'Win Count'] = 1\n",
        "        win_counter += 1\n",
        "      pnl_list.append(pnl)\n",
        "      bb_macd_tradelist.append([now_date, df_name, pos_opened, close_price, lot_size, (close_price*lot_size), pnl, holding_days])\n",
        "\n",
        "      # reset values\n",
        "      open_price = 0\n",
        "      close_price = 0\n",
        "      initial_equity_value = 0\n",
        "      lot_size = 0\n",
        "      open_trade_date = 0\n",
        "\n",
        "    else:\n",
        "      df.loc[i, 'Equity Value']   = (now_open * lot_size)\n",
        "      df.loc[i, 'Lot Size']       = lot_size\n",
        "      if (now_open * lot_size) < initial_equity_value:\n",
        "        df.loc[i, 'MDD_dollar']   = initial_equity_value - (now_open * lot_size)\n",
        "      else:\n",
        "        df.loc[i, 'MDD_dollar']   = 0\n",
        "\n",
        "  total_profit = round(sum(pnl_list), 2)\n",
        "  num_of_trade = round(len(pnl_list), 2)\n",
        "  avg_pnl = round(total_profit/ num_of_trade, 2) if num_of_trade else 0\n",
        "  max_mdd = df['MDD_dollar'].min().round(2)\n",
        "  avg_hold_period = df['Holding Period'].mean().round(2)\n",
        "  win_rate = round(win_counter/ num_of_trade * 100,2)\n",
        "\n",
        "  return df_name, num_of_trade, total_profit, avg_pnl, max_mdd, avg_hold_period, win_rate"
      ],
      "metadata": {
        "id": "msSrJ0mThjRb"
      },
      "execution_count": 61,
      "outputs": []
    },
    {
      "cell_type": "code",
      "source": [
        "# create a for loop, put together trade summary list\n",
        "bbmacd_result_list = []\n",
        "\n",
        "for df in df_list:\n",
        "  try:\n",
        "    df_name = get_df_name(df)\n",
        "    test_result = backtest_bbmacd(df)\n",
        "    bbmacd_result_list.append(test_result)\n",
        "\n",
        "    bbmacd_result_df = pd.DataFrame(bbmacd_result_list)\n",
        "    bbmacd_result_df.columns = ['Ticker', 'No of Trade', 'Total PNL', 'Avg PNL/ Trade', 'Maximum Drawdown', 'Avg Holding Days', 'Win Rate %']\n",
        "  except: \n",
        "    test_result_null = bbmacd_result_list.append([df_name, 0, 0, 0, 0, 0, 0])\n",
        "    bbmacd_result_df = pd.DataFrame(bbmacd_result_list)\n",
        "    bbmacd_result_df.columns = ['Ticker', 'No of Trade', 'Total PNL', 'Avg PNL/ Trade', 'Maximum Drawdown', 'Avg Holding Days', 'Win Rate %']"
      ],
      "metadata": {
        "id": "VgbceDPUYLOZ"
      },
      "execution_count": 62,
      "outputs": []
    },
    {
      "cell_type": "code",
      "source": [
        "# PNL for Bollinger Bands + MACD Strategy\n",
        "\n",
        "#measure_date = df_list[1].loc[1, 'Date']\n",
        "#end_date = df_list[1].loc[df.index[-1], 'Date'] \n",
        "print('Trading Strategy: Bollinger Bands + MACD')\n",
        "#print('Trade period:', (measure_date.strftime('%Y-%m-%d')), 'to', end_date.strftime('%Y-%m-%d'))\n",
        "ROI = ((bbmacd_result_df['Total PNL'].sum()/ initial_capital)*100).round(2)\n",
        "MDD = bbmacd_result_df['Maximum Drawdown'].mean().round(2)\n",
        "print('Total No of Trades Executed:', (bbmacd_result_df['No of Trade'].sum()))\n",
        "print('Total PNL: HKD', bbmacd_result_df['Total PNL'].sum().round(2))\n",
        "print('Capital Deployed: USD', initial_capital)\n",
        "print('ROI: ', ROI, '%')\n",
        "print('Avg Win Rate: ', round(bbmacd_result_df[bbmacd_result_df['No of Trade'] > 0]['Win Rate %'].mean(),2), '%')\n",
        "bbmacd_result_df[bbmacd_result_df['No of Trade'] > 0].sort_values(by=['Total PNL', 'Avg PNL/ Trade'], ascending=False)\n"
      ],
      "metadata": {
        "colab": {
          "base_uri": "https://localhost:8080/",
          "height": 153
        },
        "id": "Df-Z_SDCYNbL",
        "outputId": "55cad27b-5259-43a9-9ac1-f328129b8cbc"
      },
      "execution_count": 63,
      "outputs": [
        {
          "output_type": "stream",
          "name": "stdout",
          "text": [
            "Trading Strategy: Bollinger Bands + MACD\n",
            "Total No of Trades Executed: 0\n",
            "Total PNL: HKD 0\n",
            "Capital Deployed: USD 600000\n",
            "ROI:  0.0 %\n",
            "Avg Win Rate:  nan %\n"
          ]
        },
        {
          "output_type": "execute_result",
          "data": {
            "text/plain": [
              "Empty DataFrame\n",
              "Columns: [Ticker, No of Trade, Total PNL, Avg PNL/ Trade, Maximum Drawdown, Avg Holding Days, Win Rate %]\n",
              "Index: []"
            ],
            "text/html": [
              "\n",
              "  <div id=\"df-367de1c8-e958-4014-b8dc-72a30e242c8c\">\n",
              "    <div class=\"colab-df-container\">\n",
              "      <div>\n",
              "<style scoped>\n",
              "    .dataframe tbody tr th:only-of-type {\n",
              "        vertical-align: middle;\n",
              "    }\n",
              "\n",
              "    .dataframe tbody tr th {\n",
              "        vertical-align: top;\n",
              "    }\n",
              "\n",
              "    .dataframe thead th {\n",
              "        text-align: right;\n",
              "    }\n",
              "</style>\n",
              "<table border=\"1\" class=\"dataframe\">\n",
              "  <thead>\n",
              "    <tr style=\"text-align: right;\">\n",
              "      <th></th>\n",
              "      <th>Ticker</th>\n",
              "      <th>No of Trade</th>\n",
              "      <th>Total PNL</th>\n",
              "      <th>Avg PNL/ Trade</th>\n",
              "      <th>Maximum Drawdown</th>\n",
              "      <th>Avg Holding Days</th>\n",
              "      <th>Win Rate %</th>\n",
              "    </tr>\n",
              "  </thead>\n",
              "  <tbody>\n",
              "  </tbody>\n",
              "</table>\n",
              "</div>\n",
              "      <button class=\"colab-df-convert\" onclick=\"convertToInteractive('df-367de1c8-e958-4014-b8dc-72a30e242c8c')\"\n",
              "              title=\"Convert this dataframe to an interactive table.\"\n",
              "              style=\"display:none;\">\n",
              "        \n",
              "  <svg xmlns=\"http://www.w3.org/2000/svg\" height=\"24px\"viewBox=\"0 0 24 24\"\n",
              "       width=\"24px\">\n",
              "    <path d=\"M0 0h24v24H0V0z\" fill=\"none\"/>\n",
              "    <path d=\"M18.56 5.44l.94 2.06.94-2.06 2.06-.94-2.06-.94-.94-2.06-.94 2.06-2.06.94zm-11 1L8.5 8.5l.94-2.06 2.06-.94-2.06-.94L8.5 2.5l-.94 2.06-2.06.94zm10 10l.94 2.06.94-2.06 2.06-.94-2.06-.94-.94-2.06-.94 2.06-2.06.94z\"/><path d=\"M17.41 7.96l-1.37-1.37c-.4-.4-.92-.59-1.43-.59-.52 0-1.04.2-1.43.59L10.3 9.45l-7.72 7.72c-.78.78-.78 2.05 0 2.83L4 21.41c.39.39.9.59 1.41.59.51 0 1.02-.2 1.41-.59l7.78-7.78 2.81-2.81c.8-.78.8-2.07 0-2.86zM5.41 20L4 18.59l7.72-7.72 1.47 1.35L5.41 20z\"/>\n",
              "  </svg>\n",
              "      </button>\n",
              "      \n",
              "  <style>\n",
              "    .colab-df-container {\n",
              "      display:flex;\n",
              "      flex-wrap:wrap;\n",
              "      gap: 12px;\n",
              "    }\n",
              "\n",
              "    .colab-df-convert {\n",
              "      background-color: #E8F0FE;\n",
              "      border: none;\n",
              "      border-radius: 50%;\n",
              "      cursor: pointer;\n",
              "      display: none;\n",
              "      fill: #1967D2;\n",
              "      height: 32px;\n",
              "      padding: 0 0 0 0;\n",
              "      width: 32px;\n",
              "    }\n",
              "\n",
              "    .colab-df-convert:hover {\n",
              "      background-color: #E2EBFA;\n",
              "      box-shadow: 0px 1px 2px rgba(60, 64, 67, 0.3), 0px 1px 3px 1px rgba(60, 64, 67, 0.15);\n",
              "      fill: #174EA6;\n",
              "    }\n",
              "\n",
              "    [theme=dark] .colab-df-convert {\n",
              "      background-color: #3B4455;\n",
              "      fill: #D2E3FC;\n",
              "    }\n",
              "\n",
              "    [theme=dark] .colab-df-convert:hover {\n",
              "      background-color: #434B5C;\n",
              "      box-shadow: 0px 1px 3px 1px rgba(0, 0, 0, 0.15);\n",
              "      filter: drop-shadow(0px 1px 2px rgba(0, 0, 0, 0.3));\n",
              "      fill: #FFFFFF;\n",
              "    }\n",
              "  </style>\n",
              "\n",
              "      <script>\n",
              "        const buttonEl =\n",
              "          document.querySelector('#df-367de1c8-e958-4014-b8dc-72a30e242c8c button.colab-df-convert');\n",
              "        buttonEl.style.display =\n",
              "          google.colab.kernel.accessAllowed ? 'block' : 'none';\n",
              "\n",
              "        async function convertToInteractive(key) {\n",
              "          const element = document.querySelector('#df-367de1c8-e958-4014-b8dc-72a30e242c8c');\n",
              "          const dataTable =\n",
              "            await google.colab.kernel.invokeFunction('convertToInteractive',\n",
              "                                                     [key], {});\n",
              "          if (!dataTable) return;\n",
              "\n",
              "          const docLinkHtml = 'Like what you see? Visit the ' +\n",
              "            '<a target=\"_blank\" href=https://colab.research.google.com/notebooks/data_table.ipynb>data table notebook</a>'\n",
              "            + ' to learn more about interactive tables.';\n",
              "          element.innerHTML = '';\n",
              "          dataTable['output_type'] = 'display_data';\n",
              "          await google.colab.output.renderOutput(dataTable, element);\n",
              "          const docLink = document.createElement('div');\n",
              "          docLink.innerHTML = docLinkHtml;\n",
              "          element.appendChild(docLink);\n",
              "        }\n",
              "      </script>\n",
              "    </div>\n",
              "  </div>\n",
              "  "
            ]
          },
          "metadata": {},
          "execution_count": 63
        }
      ]
    },
    {
      "cell_type": "markdown",
      "source": [
        "**4) Other EDA Indicators**"
      ],
      "metadata": {
        "id": "mZOENefIEFi3"
      }
    },
    {
      "cell_type": "code",
      "source": [
        "# Extracting only close price from various dataframes\n",
        "start = df_list[0].loc[1, 'Date']\n",
        "end = df_list[0].loc[df.index[-1], 'Date'] \n",
        "\n",
        "df_close_price = []\n",
        "df_close_price.append(df_list[0]['Date'].to_list())\n",
        "bench_list = ['DX-Y.NYB', '^TNX']\n",
        "\n",
        "for close_price in df_list:\n",
        "  price = close_price['Close'].to_list()\n",
        "  df_close_price.append(price)\n",
        "\n",
        "for ticker in bench_list:\n",
        "  bench_close = yf.download(ticker, start=start, end=end, interval=interval, auto_adjust=True, back_adjust=True, progress=False)['Close']\n",
        "  df_close_price.append(bench_close)\n",
        "\n",
        "# putting everything to a dataframe, adding the column headers\n",
        "all_df = pd.DataFrame(df_close_price).T\n",
        "#all_df.columns = ['Date', 'TQQQ', 'SQQQ', 'SPXL', 'SPXS', 'TZA', 'TNA', 'SOXL', 'SOXS', 'FAS', 'FAZ', 'LABD', 'LABU', 'EDZ', 'EDC', 'USD Index', '10-yr T.Note']\n",
        "\n",
        "# changing dataframe from object to numeric for plotting heatmap\n",
        "for col in all_df.columns[1:]:\n",
        "    all_df[col] = pd.to_numeric(all_df[col], errors='coerce')\n"
      ],
      "metadata": {
        "id": "ZkCmAcDqoJer"
      },
      "execution_count": 56,
      "outputs": []
    },
    {
      "cell_type": "code",
      "source": [
        "plt.figure(figsize=(20,6))\n",
        "plt.title('Heatmap for 3x Leveraged ETF and Benchmarking Index')\n",
        "#mask = np.triu(np.ones_like(all_df.corr())) #--> add syntax mask=mask to produce diagonal heatmap\n",
        "sns.heatmap(all_df.corr(), annot = True, vmin=-1, vmax=1, center=0, cmap='coolwarm') #--> mask=mask to create diagonal heatmap"
      ],
      "metadata": {
        "colab": {
          "base_uri": "https://localhost:8080/",
          "height": 407
        },
        "id": "z74nMASkt0o2",
        "outputId": "048e7546-6ec5-4f35-8abd-327f51ad894d"
      },
      "execution_count": 57,
      "outputs": [
        {
          "output_type": "execute_result",
          "data": {
            "text/plain": [
              "<matplotlib.axes._subplots.AxesSubplot at 0x7f4baf2ca640>"
            ]
          },
          "metadata": {},
          "execution_count": 57
        },
        {
          "output_type": "display_data",
          "data": {
            "text/plain": [
              "<Figure size 1440x432 with 2 Axes>"
            ],
            "image/png": "[encoded data removed]"
          },
          "metadata": {
            "needs_background": "light"
          }
        }
      ]
    },
    {
      "cell_type": "markdown",
      "source": [
        "Downloading the Full Transaction List\n"
      ],
      "metadata": {
        "id": "Engs7HbdCQ97"
      }
    },
    {
      "cell_type": "code",
      "source": [
        "full_trade = pd.DataFrame(bb_macd_tradelist)\n",
        "full_trade.columns = ['Transaction Date', 'Ticker', 'Trade Opened', 'Unit Price', 'Lot Size', 'Equity Value', 'PNL', 'Holding Period']"
      ],
      "metadata": {
        "id": "wlR_dejOtZXl"
      },
      "execution_count": 60,
      "outputs": []
    },
    {
      "cell_type": "code",
      "source": [
        "cash_consumed = full_trade[full_trade['Trade Opened'] == True].groupby('Transaction Date')['Equity Value'].agg('sum')\n",
        "cash_consumed.plot(figsize=(10,4), title='Cash/ Account Draw down - 7k Total')"
      ],
      "metadata": {
        "id": "yZPryQO-_re0",
        "colab": {
          "base_uri": "https://localhost:8080/",
          "height": 310
        },
        "outputId": "0a84e142-d3bd-491f-ab43-d7cb2c0e8ef0"
      },
      "execution_count": 61,
      "outputs": [
        {
          "output_type": "execute_result",
          "data": {
            "text/plain": [
              "<matplotlib.axes._subplots.AxesSubplot at 0x7f4bac92aee0>"
            ]
          },
          "metadata": {},
          "execution_count": 61
        },
        {
          "output_type": "display_data",
          "data": {
            "text/plain": [
              "<Figure size 720x288 with 1 Axes>"
            ],
            "image/png": "[encoded data removed]"
          },
          "metadata": {
            "needs_background": "light"
          }
        }
      ]
    },
    {
      "cell_type": "code",
      "source": [
        "cum_profit = full_trade[full_trade['Trade Opened'] == False].groupby('Transaction Date')['PNL'].agg('sum')\n",
        "cum_profit.plot(figsize=(10,4), title='Cumulative Profit')"
      ],
      "metadata": {
        "id": "AeLRmPRsyXjt",
        "colab": {
          "base_uri": "https://localhost:8080/",
          "height": 310
        },
        "outputId": "17ab4ddb-a9dc-46be-81ef-9ef9c661ddd8"
      },
      "execution_count": 62,
      "outputs": [
        {
          "output_type": "execute_result",
          "data": {
            "text/plain": [
              "<matplotlib.axes._subplots.AxesSubplot at 0x7f4bac8ab5e0>"
            ]
          },
          "metadata": {},
          "execution_count": 62
        },
        {
          "output_type": "display_data",
          "data": {
            "text/plain": [
              "<Figure size 720x288 with 1 Axes>"
            ],
            "image/png": "[encoded data removed]"
          },
          "metadata": {
            "needs_background": "light"
          }
        }
      ]
    },
    {
      "cell_type": "code",
      "source": [
        "# export to csv\n",
        "full_trade.to_csv('full_tradeHK2022.csv')"
      ],
      "metadata": {
        "id": "izAkQgUHvU6B"
      },
      "execution_count": 63,
      "outputs": []
    }
  ]
}