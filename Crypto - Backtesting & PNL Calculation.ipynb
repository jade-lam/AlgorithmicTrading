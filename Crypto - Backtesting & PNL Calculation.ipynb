{
  "nbformat": 4,
  "nbformat_minor": 0,
  "metadata": {
    "colab": {
      "provenance": [],
      "authorship_tag": "ABX9TyN7iVWIQX2J3zCRqr/WvWPJ"
    },
    "kernelspec": {
      "name": "python3",
      "display_name": "Python 3"
    },
    "language_info": {
      "name": "python"
    }
  },
  "cells": [
    {
      "cell_type": "code",
      "source": [
        "#!pip install yfinance --upgrade\n",
        "#!pip install talib-binary\n",
        "#!wget http://prdownloads.sourceforge.net/ta-lib/ta-lib-0.4.0-src.tar.gz\n",
        "#!tar -xzvf ta-lib-0.4.0-src.tar.gz\n",
        "#%cd ta-lib\n",
        "#!./configure --prefix=/usr\n",
        "#!make\n",
        "#!make install\n",
        "#!pip install Ta-Lib"
      ],
      "metadata": {
        "id": "Dm9qE2YEsNgj"
      },
      "execution_count": 433,
      "outputs": []
    },
    {
      "cell_type": "code",
      "execution_count": 434,
      "metadata": {
        "id": "ZqvFeGRKbu3f"
      },
      "outputs": [],
      "source": [
        "import os\n",
        "import sys\n",
        "import copy\n",
        "import datetime\n",
        "import time\n",
        "\n",
        "import pandas as pd\n",
        "import numpy as np\n",
        "\n",
        "import seaborn as sns\n",
        "import matplotlib.pyplot as plt\n",
        "\n",
        "import yfinance as yf\n",
        "import talib as ta\n",
        "from talib import MA_Type"
      ]
    },
    {
      "cell_type": "markdown",
      "source": [
        "**1) Define Tickers List, Backtest Date Range and Data Retrival Intervals**"
      ],
      "metadata": {
        "id": "MSd2eNNfA8R7"
      }
    },
    {
      "cell_type": "code",
      "source": [
        "# define list of tickers to backtest\n",
        "ticker_list = ['BTC-USD', 'BTC-ETH']\n",
        "\n",
        "# define date range\n",
        "start_date = '2022-03-20'\n",
        "end_date = '2022-12-31'\n",
        "interval = '1h'\n",
        "\n",
        "# initial capital in USD\n",
        "initial_capital = 1000\n",
        "\n",
        "# position sizing\n",
        "pos_size = round(initial_capital/len(ticker_list),2)"
      ],
      "metadata": {
        "id": "OPlPECcwdt0E"
      },
      "execution_count": 435,
      "outputs": []
    },
    {
      "cell_type": "markdown",
      "source": [
        "**2) Getting OHLC Data from Yahoo Finance** </b>\n",
        "\n",
        "\n",
        "*   Get stock data based on ticker list from Yahoo Finance\n",
        "*   Create each stock data as different dataframe\n",
        "*   Add Technical Analysis indicators from TA-Lib\n",
        "*   Pointing working directory to data folder, export dach dataframe as independent csv file \n",
        "\n",
        "\n",
        "\n"
      ],
      "metadata": {
        "id": "ftTZqrlsBCh-"
      }
    },
    {
      "cell_type": "code",
      "source": [
        "BTC = yf.download('BTC-USD', start=start_date, end=end_date, interval=interval, auto_adjust=True, back_adjust=True, progress=False)\n",
        "BTC['200EMA'] = ta.EMA(BTC['Close'], timeperiod=200) \n",
        "BTC['RSI'] = ta.RSI(BTC['Close'], timeperiod=14)\n",
        "BTC['MACD'], BTC['MACD_signal'], BTC['MACD_hist'] = ta.MACD(BTC['Close'], fastperiod=12, slowperiod=26, signalperiod=9)\n",
        "    \n",
        "# add/drop columns and clean up\n",
        "#globals()[ticker] = globals()[ticker].drop(['Volume', 'MACD_hist'], axis=1)\n",
        "BTC = BTC.round(4).dropna()\n",
        "BTC = BTC.reset_index()\n",
        "BTC['Position'] = 0\n",
        "BTC[['Equity Value', 'MDD_dollar', 'PNL', 'Holding Period', 'Win Count']] = np.NAN"
      ],
      "metadata": {
        "id": "kqbki1KMdAsd"
      },
      "execution_count": 436,
      "outputs": []
    },
    {
      "cell_type": "code",
      "source": [
        "ETH = yf.download('ETH-USD', start=start_date, end=end_date, interval=interval, auto_adjust=True, back_adjust=True, progress=False)\n",
        "ETH['200EMA'] = ta.EMA(ETH['Close'], timeperiod=200) \n",
        "ETH['RSI'] = ta.RSI(ETH['Close'], timeperiod=14)\n",
        "ETH['MACD'], ETH['MACD_signal'], ETH['MACD_hist'] = ta.MACD(ETH['Close'], fastperiod=12, slowperiod=26, signalperiod=9)\n",
        "    \n",
        "# add/drop columns and clean up\n",
        "#globals()[ticker] = globals()[ticker].drop(['Volume', 'MACD_hist'], axis=1)\n",
        "ETH = ETH.round(4).dropna()\n",
        "ETH = ETH.reset_index()\n",
        "ETH['Position'] = 0\n",
        "ETH[['Equity Value', 'MDD_dollar', 'PNL', 'Holding Period', 'Win Count']] = np.NAN"
      ],
      "metadata": {
        "id": "wzGJ-1Iad0E0"
      },
      "execution_count": 437,
      "outputs": []
    },
    {
      "cell_type": "code",
      "source": [
        "ADA = yf.download('ADA-USD', start=start_date, end=end_date, interval=interval, auto_adjust=True, back_adjust=True, progress=False)\n",
        "ADA['200EMA'] = ta.EMA(ADA['Close'], timeperiod=200) \n",
        "ADA['RSI'] = ta.RSI(ADA['Close'], timeperiod=14)\n",
        "ADA['MACD'], ADA['MACD_signal'], ADA['MACD_hist'] = ta.MACD(ADA['Close'], fastperiod=12, slowperiod=26, signalperiod=9)\n",
        "    \n",
        "# add/drop columns and clean up\n",
        "#globals()[ticker] = globals()[ticker].drop(['Volume', 'MACD_hist'], axis=1)\n",
        "ADA = ADA.round(4).dropna()\n",
        "ADA = ADA.reset_index()\n",
        "ADA['Position'] = 0\n",
        "ADA[['Equity Value', 'MDD_dollar', 'PNL', 'Holding Period', 'Win Count']] = np.NAN"
      ],
      "metadata": {
        "id": "TjV-bk6atpOx"
      },
      "execution_count": 438,
      "outputs": []
    },
    {
      "cell_type": "code",
      "source": [
        "SOL = yf.download('SOL-USD', start=start_date, end=end_date, interval=interval, auto_adjust=True, back_adjust=True, progress=False)\n",
        "SOL['200EMA'] = ta.EMA(SOL['Close'], timeperiod=200) \n",
        "SOL['RSI'] = ta.RSI(SOL['Close'], timeperiod=14)\n",
        "SOL['MACD'], SOL['MACD_signal'], SOL['MACD_hist'] = ta.MACD(SOL['Close'], fastperiod=12, slowperiod=26, signalperiod=9)\n",
        "    \n",
        "# add/drop columns and clean up\n",
        "#globals()[ticker] = globals()[ticker].drop(['Volume', 'MACD_hist'], axis=1)\n",
        "SOL = SOL.round(4).dropna()\n",
        "SOL = SOL.reset_index()\n",
        "SOL['Position'] = 0\n",
        "SOL[['Equity Value', 'MDD_dollar', 'PNL', 'Holding Period', 'Win Count']] = np.NAN"
      ],
      "metadata": {
        "id": "24-GwdHh1cfi"
      },
      "execution_count": 439,
      "outputs": []
    },
    {
      "cell_type": "code",
      "source": [
        "EOS = yf.download('EOS-USD', start=start_date, end=end_date, interval=interval, auto_adjust=True, back_adjust=True, progress=False)\n",
        "EOS['200EMA'] = ta.EMA(EOS['Close'], timeperiod=200) \n",
        "EOS['RSI'] = ta.RSI(EOS['Close'], timeperiod=14)\n",
        "EOS['MACD'], EOS['MACD_signal'], EOS['MACD_hist'] = ta.MACD(EOS['Close'], fastperiod=12, slowperiod=26, signalperiod=9)\n",
        "    \n",
        "# add/drop columns and clean up\n",
        "#globals()[ticker] = globals()[ticker].drop(['Volume', 'MACD_hist'], axis=1)\n",
        "EOS = EOS.round(4).dropna()\n",
        "EOS = EOS.reset_index()\n",
        "EOS['Position'] = 0\n",
        "EOS[['Equity Value', 'MDD_dollar', 'PNL', 'Holding Period', 'Win Count']] = np.NAN"
      ],
      "metadata": {
        "id": "TIsIizl01_7k"
      },
      "execution_count": 440,
      "outputs": []
    },
    {
      "cell_type": "markdown",
      "source": [
        "**3) Building the DataFrame List, Perform Backtesting**"
      ],
      "metadata": {
        "id": "oeI-A6PecXVV"
      }
    },
    {
      "cell_type": "code",
      "source": [
        "df_list = [BTC, ETH, ADA, SOL, EOS]"
      ],
      "metadata": {
        "id": "Q84e-irDApCI"
      },
      "execution_count": 441,
      "outputs": []
    },
    {
      "cell_type": "markdown",
      "source": [
        "**Back Testing** </b>\n",
        "\n",
        "\n",
        "*   Backtesting of Trade Logic across all tickers and in the designated timeframe\n",
        "*   Backtesting for Trade strategy with simulated PNL\n",
        "\n"
      ],
      "metadata": {
        "id": "fFQAe6c_BGIJ"
      }
    },
    {
      "cell_type": "code",
      "source": [
        "# function to extract dataframe name\n",
        "def get_df_name(df):\n",
        "   name =[x for x in globals() if globals()[x] is df][0]\n",
        "   return name"
      ],
      "metadata": {
        "id": "kM2zWUsR-Iza"
      },
      "execution_count": 442,
      "outputs": []
    },
    {
      "cell_type": "code",
      "source": [
        "# function to print function name as a string\n",
        "def get_func_name(func_name):\n",
        "    func_name = sys._getframe().f_code.co_name\n",
        "    return func_name"
      ],
      "metadata": {
        "id": "2Mr3-TkCVizo"
      },
      "execution_count": 443,
      "outputs": []
    },
    {
      "cell_type": "code",
      "source": [
        "# defining the global list for storing output\n",
        "global macdema_trade_list\n",
        "macdema_trade_list = []\n",
        "\n",
        "pos_size = round(initial_capital/len(ticker_list),2)"
      ],
      "metadata": {
        "id": "FIEnC1lPui7-"
      },
      "execution_count": 444,
      "outputs": []
    },
    {
      "cell_type": "code",
      "source": [
        "def backtest_macdema(df):\n",
        "  df_name = get_df_name(df)\n",
        "  pos_opened = False\n",
        "  open_price  = 0\n",
        "  close_price = 0\n",
        "  hold_counter = 0\n",
        "  \n",
        "  pnl = 0\n",
        "  pnl_list = []\n",
        "  \n",
        "  lot_size = 0\n",
        "  initial_equity_value = 0\n",
        "  initial_buy_price = 0\n",
        "  win_counter = 0\n",
        "  stop_loss = initial_equity_value * 0.98\n",
        "  profit_target = initial_equity_value * 1.2\n",
        "\n",
        "  for i in range(len(df)):\n",
        "    now_date        = df.loc[i, 'Datetime']\n",
        "    now_open        = df.loc[i, 'Open']\n",
        "    now_close       = df.loc[i, 'Close']\n",
        "    now_200EMA      = df.loc[i, '200EMA']\n",
        "    now_MACD        = df.loc[i, 'MACD']\n",
        "    now_MACD_signal = df.loc[i, 'MACD_signal']\n",
        "    now_position    = df.loc[i, 'Position']\n",
        "    now_equity_val  = df.loc[i, 'Equity Value']\n",
        "    now_mdd_dollar  = df.loc[i, 'MDD_dollar']\n",
        "\n",
        "    # opening a position\n",
        "    if (pos_opened == False) and ((now_MACD > now_MACD_signal) and (now_MACD > 0) and (now_open < now_200EMA)):\n",
        "      pos_opened = True\n",
        "      open_price = now_open\n",
        "      lot_size = pos_size/open_price\n",
        "      #buy_commission = (0.0049 + 0.005) * lot_size\n",
        "      #initial_equity_value = round(((lot_size * open_price) - buy_commission),2)\n",
        "      initial_equity_value = round((lot_size * open_price),2)\n",
        "      initial_buy_price = initial_equity_value/ lot_size\n",
        "      hold_counter = hold_counter + 1\n",
        "      df.loc[i, 'Position'] = 1\n",
        "      df.loc[i, 'Equity Value'] = initial_equity_value\n",
        "      macdema_trade_list.append([now_date, df_name, open_price, pos_opened, lot_size, initial_equity_value])\n",
        "    \n",
        "    # closing a position - by MACD signal, or last day of trading or hit stop loss\n",
        "    elif ((pos_opened == True) and ((now_MACD < now_MACD_signal) or (now_MACD < 0))) or \\\n",
        "      ((pos_opened == True) and (profit_target > initial_equity_value)) or \\\n",
        "      ((pos_opened == True) and (now_date == df.loc[(len(df)-1), 'Datetime'])) or \\\n",
        "      ((pos_opened == True) and (now_open*lot_size < stop_loss)):\n",
        "#      ((pos_opened == True) and (now_open*lot_size < stop_loss)) or \\\n",
        "#      ((pos_opened == True) and (now_open*lot_size > profit_target)):\n",
        "      pos_opened = False\n",
        "      close_price = now_open\n",
        "      #sell_commission = (0.04 * lot_size) + (close_price * lot_size * 0.0000229)\n",
        "      #pnl = round(((close_price - initial_buy_price) * lot_size) - sell_commission,2)\n",
        "      pnl = round(((close_price - initial_buy_price) * lot_size),2)\n",
        "      df.loc[i, 'Position'] = 2\n",
        "      df.loc[i, 'Equity Value'] = (now_open * lot_size)\n",
        "      df.loc[i, 'MDD_dollar']     = (now_close * lot_size) - initial_equity_value\n",
        "      df.loc[i, 'PNL'] = pnl.round(2)\n",
        "      df.loc[i, 'Holding period'] = hold_counter\n",
        "      if pnl > 0:\n",
        "        win_counter += 1\n",
        "      pnl_list.append(pnl)\n",
        "      macdema_trade_list.append([now_date, df_name, close_price, pos_opened, lot_size, (close_price*lot_size), pnl, hold_counter])\n",
        "\n",
        "      # reset values\n",
        "      open_price = 0\n",
        "      close_price = 0\n",
        "      initial_equity_value = 0\n",
        "      initial_buy_price = 0\n",
        "      lot_size = 0\n",
        "      stop_loss = 0\n",
        "      hold_counter = 0\n",
        "\n",
        "    # calculating daily drawdowns\n",
        "    #else (pos_opened == True):\n",
        "    elif (pos_opened==True):\n",
        "      df.loc[i, 'Equity Value']   = (now_close * lot_size)\n",
        "      df.loc[i, 'MDD_dollar']     = (now_close * lot_size) - round(initial_equity_value,2)\n",
        "      hold_counter = hold_counter + 1\n",
        " \n",
        "  total_profit = round(sum(pnl_list), 2)\n",
        "  num_of_trade = round(len(pnl_list), 2)\n",
        "  avg_pnl = round(total_profit/ num_of_trade, 2) if num_of_trade else 0\n",
        "  max_mdd = df['MDD_dollar'].mean().round(2)\n",
        "  avg_hold_period = df['Holding period'].mean().round(2)\n",
        "  win_rate = round(win_counter/ num_of_trade * 100,2)\n",
        "\n",
        "  return df_name, num_of_trade, total_profit, avg_pnl, max_mdd, avg_hold_period, win_rate"
      ],
      "metadata": {
        "id": "aPwT0aNAbzCB"
      },
      "execution_count": 445,
      "outputs": []
    },
    {
      "cell_type": "code",
      "source": [
        "macdema_result_list = []\n",
        "\n",
        "for df in df_list:\n",
        "  try:\n",
        "    df_name = get_df_name(df)\n",
        "    test_result = backtest_macdema(df)\n",
        "    macdema_result_list.append(test_result)\n",
        "\n",
        "    macdema_result_df = pd.DataFrame(macdema_result_list)\n",
        "    macdema_result_df.columns = ['Ticker', 'No of Trade', 'Total PNL', 'Avg PNL/ Trade', 'Maximum Drawdown', 'Avg Holding Days', 'Win Rate %']\n",
        "  except: \n",
        "    test_result_null = macdema_result_list.append([df_name, 0, 0, 0, 0, 0, 0])\n",
        "    macdema_result_df = pd.DataFrame(macdema_result_list)\n",
        "    macdema_result_df.columns = ['Ticker', 'No of Trade', 'Total PNL', 'Avg PNL/ Trade', 'Maximum Drawdown', 'Avg Holding Days', 'Win Rate %']"
      ],
      "metadata": {
        "id": "TjFZMrcmcLmT"
      },
      "execution_count": 446,
      "outputs": []
    },
    {
      "cell_type": "code",
      "source": [
        "# PNL for MACD EMA Strategy\n",
        "\n",
        "#measure_date = df_list[1].loc[1, 'Datetime']\n",
        "#end_date = df_list[1].loc[df.index[-1], 'Datetime'] \n",
        "print('Trading Strategy: MACD + 200 EMA')\n",
        "#print('Trade period:', (measure_date.strftime('%Y-%m-%d')), 'to', end_date.strftime('%Y-%m-%d'))\n",
        "ROI = ((macdema_result_df['Total PNL'].sum()/ initial_capital)*100).round(2)\n",
        "MDD = macdema_result_df['Maximum Drawdown'].mean().round(2)\n",
        "print('Total No of Trades Executed:', (macdema_result_df['No of Trade'].sum()))\n",
        "print('Total PNL: USD', macdema_result_df['Total PNL'].sum().round(2))\n",
        "print('Required Capital: USD', initial_capital)\n",
        "print('ROI: ', ROI, '%')\n",
        "print('Avg Win Rate: ', round(macdema_result_df[macdema_result_df['No of Trade'] > 0]['Win Rate %'].mean(), 2), '%')\n",
        "macdema_result_df. at[0,'Ticker'] = 'BTC'\n",
        "macdema_result_df. at[1,'Ticker'] = 'ETH'\n",
        "macdema_result_df. at[2,'Ticker'] = 'ADA'\n",
        "macdema_result_df. at[3,'Ticker'] = 'SOL'\n",
        "macdema_result_df. at[4,'Ticker'] = 'EOS'\n",
        "macdema_result_df[macdema_result_df['No of Trade'] > 0].sort_values(by=['Total PNL', 'Avg PNL/ Trade'], ascending=False)"
      ],
      "metadata": {
        "colab": {
          "base_uri": "https://localhost:8080/",
          "height": 310
        },
        "outputId": "be69b7bd-b096-46ac-825f-0d59b7dba06e",
        "id": "hIWGBOvCcLmT"
      },
      "execution_count": 447,
      "outputs": [
        {
          "output_type": "stream",
          "name": "stdout",
          "text": [
            "Trading Strategy: MACD + 200 EMA\n",
            "Total No of Trades Executed: 461\n",
            "Total PNL: USD 2696.86\n",
            "Required Capital: USD 1000\n",
            "ROI:  269.69 %\n",
            "Avg Win Rate:  62.15 %\n"
          ]
        },
        {
          "output_type": "execute_result",
          "data": {
            "text/plain": [
              "  Ticker  No of Trade  Total PNL  Avg PNL/ Trade  Maximum Drawdown  \\\n",
              "3    SOL           97     741.70            7.65             11.27   \n",
              "2    ADA           97     525.54            5.42              8.84   \n",
              "4    EOS           81     512.32            6.32              9.69   \n",
              "1    ETH           98     491.60            5.02              8.23   \n",
              "0    BTC           88     425.70            4.84              6.99   \n",
              "\n",
              "   Avg Holding Days  Win Rate %  \n",
              "3             11.56       64.95  \n",
              "2             11.53       61.86  \n",
              "4             12.37       56.79  \n",
              "1             11.20       61.22  \n",
              "0             12.06       65.91  "
            ],
            "text/html": [
              "\n",
              "  <div id=\"df-0e5b1761-6a37-445c-8834-fa8ca126ce30\">\n",
              "    <div class=\"colab-df-container\">\n",
              "      <div>\n",
              "<style scoped>\n",
              "    .dataframe tbody tr th:only-of-type {\n",
              "        vertical-align: middle;\n",
              "    }\n",
              "\n",
              "    .dataframe tbody tr th {\n",
              "        vertical-align: top;\n",
              "    }\n",
              "\n",
              "    .dataframe thead th {\n",
              "        text-align: right;\n",
              "    }\n",
              "</style>\n",
              "<table border=\"1\" class=\"dataframe\">\n",
              "  <thead>\n",
              "    <tr style=\"text-align: right;\">\n",
              "      <th></th>\n",
              "      <th>Ticker</th>\n",
              "      <th>No of Trade</th>\n",
              "      <th>Total PNL</th>\n",
              "      <th>Avg PNL/ Trade</th>\n",
              "      <th>Maximum Drawdown</th>\n",
              "      <th>Avg Holding Days</th>\n",
              "      <th>Win Rate %</th>\n",
              "    </tr>\n",
              "  </thead>\n",
              "  <tbody>\n",
              "    <tr>\n",
              "      <th>3</th>\n",
              "      <td>SOL</td>\n",
              "      <td>97</td>\n",
              "      <td>741.70</td>\n",
              "      <td>7.65</td>\n",
              "      <td>11.27</td>\n",
              "      <td>11.56</td>\n",
              "      <td>64.95</td>\n",
              "    </tr>\n",
              "    <tr>\n",
              "      <th>2</th>\n",
              "      <td>ADA</td>\n",
              "      <td>97</td>\n",
              "      <td>525.54</td>\n",
              "      <td>5.42</td>\n",
              "      <td>8.84</td>\n",
              "      <td>11.53</td>\n",
              "      <td>61.86</td>\n",
              "    </tr>\n",
              "    <tr>\n",
              "      <th>4</th>\n",
              "      <td>EOS</td>\n",
              "      <td>81</td>\n",
              "      <td>512.32</td>\n",
              "      <td>6.32</td>\n",
              "      <td>9.69</td>\n",
              "      <td>12.37</td>\n",
              "      <td>56.79</td>\n",
              "    </tr>\n",
              "    <tr>\n",
              "      <th>1</th>\n",
              "      <td>ETH</td>\n",
              "      <td>98</td>\n",
              "      <td>491.60</td>\n",
              "      <td>5.02</td>\n",
              "      <td>8.23</td>\n",
              "      <td>11.20</td>\n",
              "      <td>61.22</td>\n",
              "    </tr>\n",
              "    <tr>\n",
              "      <th>0</th>\n",
              "      <td>BTC</td>\n",
              "      <td>88</td>\n",
              "      <td>425.70</td>\n",
              "      <td>4.84</td>\n",
              "      <td>6.99</td>\n",
              "      <td>12.06</td>\n",
              "      <td>65.91</td>\n",
              "    </tr>\n",
              "  </tbody>\n",
              "</table>\n",
              "</div>\n",
              "      <button class=\"colab-df-convert\" onclick=\"convertToInteractive('df-0e5b1761-6a37-445c-8834-fa8ca126ce30')\"\n",
              "              title=\"Convert this dataframe to an interactive table.\"\n",
              "              style=\"display:none;\">\n",
              "        \n",
              "  <svg xmlns=\"http://www.w3.org/2000/svg\" height=\"24px\"viewBox=\"0 0 24 24\"\n",
              "       width=\"24px\">\n",
              "    <path d=\"M0 0h24v24H0V0z\" fill=\"none\"/>\n",
              "    <path d=\"M18.56 5.44l.94 2.06.94-2.06 2.06-.94-2.06-.94-.94-2.06-.94 2.06-2.06.94zm-11 1L8.5 8.5l.94-2.06 2.06-.94-2.06-.94L8.5 2.5l-.94 2.06-2.06.94zm10 10l.94 2.06.94-2.06 2.06-.94-2.06-.94-.94-2.06-.94 2.06-2.06.94z\"/><path d=\"M17.41 7.96l-1.37-1.37c-.4-.4-.92-.59-1.43-.59-.52 0-1.04.2-1.43.59L10.3 9.45l-7.72 7.72c-.78.78-.78 2.05 0 2.83L4 21.41c.39.39.9.59 1.41.59.51 0 1.02-.2 1.41-.59l7.78-7.78 2.81-2.81c.8-.78.8-2.07 0-2.86zM5.41 20L4 18.59l7.72-7.72 1.47 1.35L5.41 20z\"/>\n",
              "  </svg>\n",
              "      </button>\n",
              "      \n",
              "  <style>\n",
              "    .colab-df-container {\n",
              "      display:flex;\n",
              "      flex-wrap:wrap;\n",
              "      gap: 12px;\n",
              "    }\n",
              "\n",
              "    .colab-df-convert {\n",
              "      background-color: #E8F0FE;\n",
              "      border: none;\n",
              "      border-radius: 50%;\n",
              "      cursor: pointer;\n",
              "      display: none;\n",
              "      fill: #1967D2;\n",
              "      height: 32px;\n",
              "      padding: 0 0 0 0;\n",
              "      width: 32px;\n",
              "    }\n",
              "\n",
              "    .colab-df-convert:hover {\n",
              "      background-color: #E2EBFA;\n",
              "      box-shadow: 0px 1px 2px rgba(60, 64, 67, 0.3), 0px 1px 3px 1px rgba(60, 64, 67, 0.15);\n",
              "      fill: #174EA6;\n",
              "    }\n",
              "\n",
              "    [theme=dark] .colab-df-convert {\n",
              "      background-color: #3B4455;\n",
              "      fill: #D2E3FC;\n",
              "    }\n",
              "\n",
              "    [theme=dark] .colab-df-convert:hover {\n",
              "      background-color: #434B5C;\n",
              "      box-shadow: 0px 1px 3px 1px rgba(0, 0, 0, 0.15);\n",
              "      filter: drop-shadow(0px 1px 2px rgba(0, 0, 0, 0.3));\n",
              "      fill: #FFFFFF;\n",
              "    }\n",
              "  </style>\n",
              "\n",
              "      <script>\n",
              "        const buttonEl =\n",
              "          document.querySelector('#df-0e5b1761-6a37-445c-8834-fa8ca126ce30 button.colab-df-convert');\n",
              "        buttonEl.style.display =\n",
              "          google.colab.kernel.accessAllowed ? 'block' : 'none';\n",
              "\n",
              "        async function convertToInteractive(key) {\n",
              "          const element = document.querySelector('#df-0e5b1761-6a37-445c-8834-fa8ca126ce30');\n",
              "          const dataTable =\n",
              "            await google.colab.kernel.invokeFunction('convertToInteractive',\n",
              "                                                     [key], {});\n",
              "          if (!dataTable) return;\n",
              "\n",
              "          const docLinkHtml = 'Like what you see? Visit the ' +\n",
              "            '<a target=\"_blank\" href=https://colab.research.google.com/notebooks/data_table.ipynb>data table notebook</a>'\n",
              "            + ' to learn more about interactive tables.';\n",
              "          element.innerHTML = '';\n",
              "          dataTable['output_type'] = 'display_data';\n",
              "          await google.colab.output.renderOutput(dataTable, element);\n",
              "          const docLink = document.createElement('div');\n",
              "          docLink.innerHTML = docLinkHtml;\n",
              "          element.appendChild(docLink);\n",
              "        }\n",
              "      </script>\n",
              "    </div>\n",
              "  </div>\n",
              "  "
            ]
          },
          "metadata": {},
          "execution_count": 447
        }
      ]
    }
  ]
}