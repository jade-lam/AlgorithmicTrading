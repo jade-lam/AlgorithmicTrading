{
  "nbformat": 4,
  "nbformat_minor": 0,
  "metadata": {
    "colab": {
      "provenance": [],
      "authorship_tag": "ABX9TyOnBMObnS4lq9ICyopNWVq4"
    },
    "kernelspec": {
      "name": "python3",
      "display_name": "Python 3"
    },
    "language_info": {
      "name": "python"
    }
  },
  "cells": [
    {
      "cell_type": "markdown",
      "source": [
        "Python scripts, created for environments where TA-Lib is not available. Part of the source is from this [link](https://quantopian-archive.netlify.app/forum/threads/technical-analysis-indicators-without-talib-code.html).</br>\n",
        "Some script has been updated to reflect latest pandas version and script changes."
      ],
      "metadata": {
        "id": "v8zY2WtgEzOH"
      }
    },
    {
      "cell_type": "code",
      "execution_count": 34,
      "metadata": {
        "id": "ut1cGiY-Eq7p"
      },
      "outputs": [],
      "source": [
        "import numpy  \n",
        "import pandas as pd  \n",
        "import math as m"
      ]
    },
    {
      "cell_type": "markdown",
      "source": [
        "Input requirements - dataframe with stock data closing price, with column header as ['Close']."
      ],
      "metadata": {
        "id": "BZuBcqfoFVbE"
      }
    },
    {
      "cell_type": "code",
      "source": [
        "#Moving Averages - input dataframe closing price, number of periods \n",
        "def MA(df, n):  \n",
        "    MA = pd.Series(pd.rolling_mean(df['Close'], n), name = 'MA_' + str(n) + 'day')  \n",
        "    df = df.join(MA)  \n",
        "    return df"
      ],
      "metadata": {
        "id": "xv1sRN6RFFnY"
      },
      "execution_count": 35,
      "outputs": []
    },
    {
      "cell_type": "code",
      "source": [
        "#Exponential Moving Averages -   \n",
        "def EMA(df, n):  \n",
        "    EMA = pd.Series(pd.ewma(df['Close'], span = n, min_periods = n - 1), name = 'EMA_' + str(n)  + 'day')  \n",
        "    df = df.join(EMA)  \n",
        "    return df"
      ],
      "metadata": {
        "id": "cLKb2CbRFvk6"
      },
      "execution_count": 36,
      "outputs": []
    },
    {
      "cell_type": "code",
      "source": [
        "#Relative Strength Index  \n",
        "def RSI(df, n):  \n",
        "    i = 0  \n",
        "    UpI = [0]  \n",
        "    DoI = [0]  \n",
        "    while i + 1 <= df.index[-1]:  \n",
        "        UpMove = df.get_value(i + 1, 'High') - df.get_value(i, 'High')  \n",
        "        DoMove = df.get_value(i, 'Low') - df.get_value(i + 1, 'Low')  \n",
        "        if UpMove > DoMove and UpMove > 0:  \n",
        "            UpD = UpMove  \n",
        "        else: UpD = 0  \n",
        "        UpI.append(UpD)  \n",
        "        if DoMove > UpMove and DoMove > 0:  \n",
        "            DoD = DoMove  \n",
        "        else: DoD = 0  \n",
        "        DoI.append(DoD)  \n",
        "        i = i + 1  \n",
        "    UpI = pd.Series(UpI)  \n",
        "    DoI = pd.Series(DoI)  \n",
        "    PosDI = pd.Series(pd.ewma(UpI, span = n, min_periods = n - 1))  \n",
        "    NegDI = pd.Series(pd.ewma(DoI, span = n, min_periods = n - 1))  \n",
        "    RSI = pd.Series(PosDI / (PosDI + NegDI), name = 'RSI_' + str(n))  \n",
        "    df = df.join(RSI)  \n",
        "    return df"
      ],
      "metadata": {
        "id": "l21ntu1hIhDC"
      },
      "execution_count": 37,
      "outputs": []
    },
    {
      "cell_type": "code",
      "source": [
        "#True Strength Index  \n",
        "def TSI(df, r, s):  \n",
        "    M = pd.Series(df['Close'].diff(1))  \n",
        "    aM = abs(M)  \n",
        "    EMA1 = pd.Series(pd.ewma(M, span = r, min_periods = r - 1))  \n",
        "    aEMA1 = pd.Series(pd.ewma(aM, span = r, min_periods = r - 1))  \n",
        "    EMA2 = pd.Series(pd.ewma(EMA1, span = s, min_periods = s - 1))  \n",
        "    aEMA2 = pd.Series(pd.ewma(aEMA1, span = s, min_periods = s - 1))  \n",
        "    TSI = pd.Series(EMA2 / aEMA2, name = 'TSI_' + str(r) + '_' + str(s))  \n",
        "    df = df.join(TSI)  \n",
        "    return df"
      ],
      "metadata": {
        "id": "lgU010gFIh9-"
      },
      "execution_count": 38,
      "outputs": []
    },
    {
      "cell_type": "code",
      "source": [
        "#MACD, MACD Signal and MACD differencem, defaulting to period 12, 26, 9  \n",
        "def MACD(df, n_fast=12, n_slow=26):  \n",
        "    # adjust=False, exponentially weighted calculation is used\n",
        "    # https://pandas.pydata.org/pandas-docs/version/1.3/reference/api/pandas.DataFrame.ewm.html\n",
        "    k_fast = df['Close'].ewm(span=n_fast, adjust=False, min_periods=n_fast).mean()\n",
        "    d_slow = df['Close'].ewm(span=n_slow, adjust=False, min_periods=n_slow).mean()\n",
        "    macd = k_fast - d_slow\n",
        "    macd_s = macd.ewm(span=9, adjust=False, min_periods=9).mean()\n",
        "    macd_h = macd - macd_s\n",
        "    df['MACD'] = df.index.map(macd)\n",
        "    df['MACD_signal'] = df.index.map(macd_s)\n",
        "    df['MACD_hist'] = df.index.map(macd_h)\n",
        "    return df"
      ],
      "metadata": {
        "id": "-YAuguwcIcqr"
      },
      "execution_count": 39,
      "outputs": []
    },
    {
      "cell_type": "code",
      "source": [
        "#Bollinger Bands - default to 20 period, 2 standard deviations\n",
        "def bollinger_bands(df, n=20, m=2):\n",
        "    # takes dataframe on input\n",
        "    # n = smoothing length\n",
        "    # m = number of standard deviations away from MA\n",
        "    \n",
        "    #typical price\n",
        "    TP = (df['High'] + df['Low'] + df['Close']) / 3\n",
        "    \n",
        "    # takes one column from dataframe\n",
        "    B_MA = pd.Series((TP.rolling(n, min_periods=n).mean()), name='B_MA')\n",
        "    sigma = TP.rolling(n, min_periods=n).std() \n",
        "    \n",
        "    BU = pd.Series((B_MA + m * sigma), name='BU')\n",
        "    BL = pd.Series((B_MA - m * sigma), name='BL')\n",
        "    \n",
        "    df = df.join(B_MA)\n",
        "    df = df.join(BU)\n",
        "    df = df.join(BL)\n",
        "    \n",
        "    return df"
      ],
      "metadata": {
        "id": "4qWK94VCub4s"
      },
      "execution_count": 53,
      "outputs": []
    },
    {
      "cell_type": "code",
      "source": [
        "#Bollinger Bands  \n",
        "def BBANDS(df, n):  \n",
        "    MA = pd.Series(pd.rolling_mean(df['Close'], n))  \n",
        "    MSD = pd.Series(pd.rolling_std(df['Close'], n))  \n",
        "    b1 = 4 * MSD / MA  \n",
        "    B1 = pd.Series(b1, name = 'BollingerB_' + str(n))  \n",
        "    df = df.join(B1)  \n",
        "    b2 = (df['Close'] - MA + 2 * MSD) / (4 * MSD)  \n",
        "    B2 = pd.Series(b2, name = 'Bollinger%b_' + str(n))  \n",
        "    df = df.join(B2)  \n",
        "    return df"
      ],
      "metadata": {
        "id": "Zm0HTUWAGw9E"
      },
      "execution_count": 40,
      "outputs": []
    },
    {
      "cell_type": "code",
      "source": [
        "#Pivot Points, Supports and Resistances  \n",
        "def PPSR(df):  \n",
        "    PP = pd.Series((df['High'] + df['Low'] + df['Close']) / 3)  \n",
        "    R1 = pd.Series(2 * PP - df['Low'])  \n",
        "    S1 = pd.Series(2 * PP - df['High'])  \n",
        "    R2 = pd.Series(PP + df['High'] - df['Low'])  \n",
        "    S2 = pd.Series(PP - df['High'] + df['Low'])  \n",
        "    R3 = pd.Series(df['High'] + 2 * (PP - df['Low']))  \n",
        "    S3 = pd.Series(df['Low'] - 2 * (df['High'] - PP))  \n",
        "    psr = {'PP':PP, 'R1':R1, 'S1':S1, 'R2':R2, 'S2':S2, 'R3':R3, 'S3':S3}  \n",
        "    PSR = pd.DataFrame(psr)  \n",
        "    df = df.join(PSR)  \n",
        "    return df"
      ],
      "metadata": {
        "id": "BG8iy1KuIRdR"
      },
      "execution_count": 41,
      "outputs": []
    },
    {
      "cell_type": "code",
      "source": [
        "#Stochastic oscillator %K  \n",
        "def STOK(df):  \n",
        "    SOk = pd.Series((df['Close'] - df['Low']) / (df['High'] - df['Low']), name = 'SO%k')  \n",
        "    df = df.join(SOk)  \n",
        "    return df"
      ],
      "metadata": {
        "id": "NrPjiQfsIUTJ"
      },
      "execution_count": 42,
      "outputs": []
    },
    {
      "cell_type": "code",
      "source": [
        "# Stochastic Oscillator, EMA smoothing, nS = slowing (1 if no slowing)  \n",
        "def STO(df,  nK, nD, nS=1):  \n",
        "    SOk = pd.Series((df['Close'] - df['Low'].rolling(nK).min()) / (df['High'].rolling(nK).max() - df['Low'].rolling(nK).min()), name = 'SO%k'+str(nK))  \n",
        "    SOd = pd.Series(SOk.ewm(ignore_na=False, span=nD, min_periods=nD-1, adjust=True).mean(), name = 'SO%d'+str(nD))  \n",
        "    SOk = SOk.ewm(ignore_na=False, span=nS, min_periods=nS-1, adjust=True).mean()  \n",
        "    SOd = SOd.ewm(ignore_na=False, span=nS, min_periods=nS-1, adjust=True).mean()  \n",
        "    df = df.join(SOk)  \n",
        "    df = df.join(SOd)  \n",
        "    return df  "
      ],
      "metadata": {
        "id": "yrpAVxqCIWt_"
      },
      "execution_count": 43,
      "outputs": []
    },
    {
      "cell_type": "code",
      "source": [
        "#Trix  \n",
        "def TRIX(df, n):  \n",
        "    EX1 = pd.ewma(df['Close'], span = n, min_periods = n - 1)  \n",
        "    EX2 = pd.ewma(EX1, span = n, min_periods = n - 1)  \n",
        "    EX3 = pd.ewma(EX2, span = n, min_periods = n - 1)  \n",
        "    i = 0  \n",
        "    ROC_l = [0]  \n",
        "    while i + 1 <= df.index[-1]:  \n",
        "        ROC = (EX3[i + 1] - EX3[i]) / EX3[i]  \n",
        "        ROC_l.append(ROC)  \n",
        "        i = i + 1  \n",
        "    Trix = pd.Series(ROC_l, name = 'Trix_' + str(n))  \n",
        "    df = df.join(Trix)  \n",
        "    return df"
      ],
      "metadata": {
        "id": "WGQAr7KEJQbT"
      },
      "execution_count": 44,
      "outputs": []
    },
    {
      "cell_type": "code",
      "source": [
        "#Average Directional Movement Index  \n",
        "def ADX(df, n, n_ADX):  \n",
        "    i = 0  \n",
        "    UpI = []  \n",
        "    DoI = []  \n",
        "    while i + 1 <= df.index[-1]:  \n",
        "        UpMove = df.get_value(i + 1, 'High') - df.get_value(i, 'High')  \n",
        "        DoMove = df.get_value(i, 'Low') - df.get_value(i + 1, 'Low')  \n",
        "        if UpMove > DoMove and UpMove > 0:  \n",
        "            UpD = UpMove  \n",
        "        else: UpD = 0  \n",
        "        UpI.append(UpD)  \n",
        "        if DoMove > UpMove and DoMove > 0:  \n",
        "            DoD = DoMove  \n",
        "        else: DoD = 0  \n",
        "        DoI.append(DoD)  \n",
        "        i = i + 1  \n",
        "    i = 0  \n",
        "    TR_l = [0]  \n",
        "    while i < df.index[-1]:  \n",
        "        TR = max(df.get_value(i + 1, 'High'), df.get_value(i, 'Close')) - min(df.get_value(i + 1, 'Low'), df.get_value(i, 'Close'))  \n",
        "        TR_l.append(TR)  \n",
        "        i = i + 1  \n",
        "    TR_s = pd.Series(TR_l)  \n",
        "    ATR = pd.Series(pd.ewma(TR_s, span = n, min_periods = n))  \n",
        "    UpI = pd.Series(UpI)  \n",
        "    DoI = pd.Series(DoI)  \n",
        "    PosDI = pd.Series(pd.ewma(UpI, span = n, min_periods = n - 1) / ATR)  \n",
        "    NegDI = pd.Series(pd.ewma(DoI, span = n, min_periods = n - 1) / ATR)  \n",
        "    ADX = pd.Series(pd.ewma(abs(PosDI - NegDI) / (PosDI + NegDI), span = n_ADX, min_periods = n_ADX - 1), name = 'ADX_' + str(n) + '_' + str(n_ADX))  \n",
        "    df = df.join(ADX)  \n",
        "    return df"
      ],
      "metadata": {
        "id": "7qkO1-PlJQ7p"
      },
      "execution_count": 45,
      "outputs": []
    },
    {
      "cell_type": "code",
      "source": [
        "#Accumulation/Distribution  \n",
        "def ACCDIST(df, n):  \n",
        "    ad = (2 * df['Close'] - df['High'] - df['Low']) / (df['High'] - df['Low']) * df['Volume']  \n",
        "    M = ad.diff(n - 1)  \n",
        "    N = ad.shift(n - 1)  \n",
        "    ROC = M / N  \n",
        "    AD = pd.Series(ROC, name = 'Acc/Dist_ROC_' + str(n))  \n",
        "    df = df.join(AD)  \n",
        "    return df"
      ],
      "metadata": {
        "id": "Amo3DJL-ImBR"
      },
      "execution_count": 46,
      "outputs": []
    },
    {
      "cell_type": "code",
      "source": [
        "#Money Flow Index and Ratio  \n",
        "def MFI(df, n):  \n",
        "    PP = (df['High'] + df['Low'] + df['Close']) / 3  \n",
        "    i = 0  \n",
        "    PosMF = [0]  \n",
        "    while i < df.index[-1]:  \n",
        "        if PP[i + 1] > PP[i]:  \n",
        "            PosMF.append(PP[i + 1] * df.get_value(i + 1, 'Volume'))  \n",
        "        else:  \n",
        "            PosMF.append(0)  \n",
        "        i = i + 1  \n",
        "    PosMF = pd.Series(PosMF)  \n",
        "    TotMF = PP * df['Volume']  \n",
        "    MFR = pd.Series(PosMF / TotMF)  \n",
        "    MFI = pd.Series(pd.rolling_mean(MFR, n), name = 'MFI_' + str(n))  \n",
        "    df = df.join(MFI)  \n",
        "    return df"
      ],
      "metadata": {
        "id": "5DkgBVjFImiV"
      },
      "execution_count": 47,
      "outputs": []
    },
    {
      "cell_type": "code",
      "source": [
        "#On-balance Volume  \n",
        "def OBV(df, n):  \n",
        "    i = 0  \n",
        "    OBV = [0]  \n",
        "    while i < df.index[-1]:  \n",
        "        if df.get_value(i + 1, 'Close') - df.get_value(i, 'Close') > 0:  \n",
        "            OBV.append(df.get_value(i + 1, 'Volume'))  \n",
        "        if df.get_value(i + 1, 'Close') - df.get_value(i, 'Close') == 0:  \n",
        "            OBV.append(0)  \n",
        "        if df.get_value(i + 1, 'Close') - df.get_value(i, 'Close') < 0:  \n",
        "            OBV.append(-df.get_value(i + 1, 'Volume'))  \n",
        "        i = i + 1  \n",
        "    OBV = pd.Series(OBV)  \n",
        "    OBV_ma = pd.Series(pd.rolling_mean(OBV, n), name = 'OBV_' + str(n))  \n",
        "    df = df.join(OBV_ma)  \n",
        "    return df"
      ],
      "metadata": {
        "id": "TQNhxaVeIryN"
      },
      "execution_count": 48,
      "outputs": []
    },
    {
      "cell_type": "code",
      "source": [
        "#Commodity Channel Index  \n",
        "def CCI(df, n):  \n",
        "    PP = (df['High'] + df['Low'] + df['Close']) / 3  \n",
        "    CCI = pd.Series((PP - pd.rolling_mean(PP, n)) / pd.rolling_std(PP, n), name = 'CCI_' + str(n))  \n",
        "    df = df.join(CCI)  \n",
        "    return df"
      ],
      "metadata": {
        "id": "Pe5UGlo2Iu1j"
      },
      "execution_count": 49,
      "outputs": []
    },
    {
      "cell_type": "code",
      "source": [
        "#Donchian Channel  \n",
        "def DONCH(df, n):  \n",
        "    i = 0  \n",
        "    DC_l = []  \n",
        "    while i < n - 1:  \n",
        "        DC_l.append(0)  \n",
        "        i = i + 1  \n",
        "    i = 0  \n",
        "    while i + n - 1 < df.index[-1]:  \n",
        "        DC = max(df['High'].ix[i:i + n - 1]) - min(df['Low'].ix[i:i + n - 1])  \n",
        "        DC_l.append(DC)  \n",
        "        i = i + 1  \n",
        "    DonCh = pd.Series(DC_l, name = 'Donchian_' + str(n))  \n",
        "    DonCh = DonCh.shift(n - 1)  \n",
        "    df = df.join(DonCh)  \n",
        "    return df"
      ],
      "metadata": {
        "id": "P9eOuF8vIzTh"
      },
      "execution_count": 50,
      "outputs": []
    },
    {
      "cell_type": "code",
      "source": [
        "#Mass Index  \n",
        "def MassI(df):  \n",
        "    Range = df['High'] - df['Low']  \n",
        "    EX1 = pd.ewma(Range, span = 9, min_periods = 8)  \n",
        "    EX2 = pd.ewma(EX1, span = 9, min_periods = 8)  \n",
        "    Mass = EX1 / EX2  \n",
        "    MassI = pd.Series(pd.rolling_sum(Mass, 25), name = 'Mass Index')  \n",
        "    df = df.join(MassI)  \n",
        "    return df"
      ],
      "metadata": {
        "id": "Z6n_dz0aJXZd"
      },
      "execution_count": 51,
      "outputs": []
    },
    {
      "cell_type": "code",
      "source": [
        "#Vortex Indicator: http://www.vortexindicator.com/ (for identifying start and end of a trend)\n",
        "def Vortex(df, n):  \n",
        "    i = 0  \n",
        "    TR = [0]  \n",
        "    while i < df.index[-1]:  \n",
        "        Range = max(df.get_value(i + 1, 'High'), df.get_value(i, 'Close')) - min(df.get_value(i + 1, 'Low'), df.get_value(i, 'Close'))  \n",
        "        TR.append(Range)  \n",
        "        i = i + 1  \n",
        "    i = 0  \n",
        "    VM = [0]  \n",
        "    while i < df.index[-1]:  \n",
        "        Range = abs(df.get_value(i + 1, 'High') - df.get_value(i, 'Low')) - abs(df.get_value(i + 1, 'Low') - df.get_value(i, 'High'))  \n",
        "        VM.append(Range)  \n",
        "        i = i + 1  \n",
        "    VI = pd.Series(pd.rolling_sum(pd.Series(VM), n) / pd.rolling_sum(pd.Series(TR), n), name = 'Vortex_' + str(n))  \n",
        "    df = df.join(VI)  \n",
        "    return df\n"
      ],
      "metadata": {
        "id": "1aH9IbQ5KaRV"
      },
      "execution_count": 52,
      "outputs": []
    }
  ]
}